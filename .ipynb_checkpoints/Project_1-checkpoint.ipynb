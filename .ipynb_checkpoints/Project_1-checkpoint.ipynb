{
 "cells": [
  {
   "cell_type": "markdown",
   "metadata": {},
   "source": [
    "# Project 1\n",
    "## Name: Sierra Costanza\n",
    "\n",
    "In this first project you will create a framework to scope out data science projects. This framework will provide you with a guide to develop a well-articulated problem statement and analysis plan that will be robust and reproducible."
   ]
  },
  {
   "cell_type": "markdown",
   "metadata": {},
   "source": [
    "### Read and evaluate the following problem statement: \n",
    "Determine which free-tier customers will covert to paying customers, using demographic data collected at signup (age, gender, location, and profession) and customer useage data (days since last log in, and activity score 1 = active user, 0= inactive user) based on Hooli data from Jan-Apr 2015. \n"
   ]
  },
  {
   "cell_type": "markdown",
   "metadata": {},
   "source": [
    "#### 1. What is the outcome?"
   ]
  },
  {
   "cell_type": "markdown",
   "metadata": {},
   "source": [
    "Answer: Conversion to paying customer indicator (yes/no)"
   ]
  },
  {
   "cell_type": "markdown",
   "metadata": {},
   "source": [
    "#### 2. What are the predictors/covariates? "
   ]
  },
  {
   "cell_type": "markdown",
   "metadata": {},
   "source": [
    "Answer: age, gender, location, profession, days since last log in, activity score"
   ]
  },
  {
   "cell_type": "markdown",
   "metadata": {},
   "source": [
    "#### 3. What timeframe is this data relevent for?"
   ]
  },
  {
   "cell_type": "markdown",
   "metadata": {},
   "source": [
    "Answer: Jan-Apr 2015"
   ]
  },
  {
   "cell_type": "markdown",
   "metadata": {},
   "source": [
    "#### 4. What is the hypothesis?"
   ]
  },
  {
   "cell_type": "markdown",
   "metadata": {},
   "source": [
    "Answer: Demographic and customer usage data will allow us to predict if a free-tier customer will convert to a paying customer"
   ]
  },
  {
   "cell_type": "markdown",
   "metadata": {},
   "source": [
    "## Let's get started with our dataset"
   ]
  },
  {
   "cell_type": "markdown",
   "metadata": {},
   "source": [
    "#### 1. Create a data dictionary "
   ]
  },
  {
   "cell_type": "markdown",
   "metadata": {},
   "source": [
    "Answer: \n",
    "\n",
    "Variable | Description | Type of Variable\n",
    "---| ---| ---\n",
    "Admit | 0 = not admitted, 1 = admitted | categorical\n",
    "GRE | Graduate Record Examination score; integer | continuous \n",
    "GPA | Undergraduate grade point average; float | continuous \n",
    "Prestige | prestige of an applicant's undergraduate alma mater; 1, 2, 3 or 4 (1 being highest prestige) | categorical "
   ]
  },
  {
   "cell_type": "markdown",
   "metadata": {},
   "source": [
    "#### 2. What is the outcome?"
   ]
  },
  {
   "cell_type": "markdown",
   "metadata": {},
   "source": [
    "Answer: Admission to graduate school indicator (yes/no)"
   ]
  },
  {
   "cell_type": "markdown",
   "metadata": {},
   "source": [
    "#### 3. What are the predictors/covariates? "
   ]
  },
  {
   "cell_type": "markdown",
   "metadata": {},
   "source": [
    "Answer: GRE Score, GPA and Prestige"
   ]
  },
  {
   "cell_type": "markdown",
   "metadata": {},
   "source": [
    "#### 4. What timeframe is this data relevent for?"
   ]
  },
  {
   "cell_type": "markdown",
   "metadata": {},
   "source": [
    "Answer: Timeframe for when the data was collected is not given, it is hypothetical data"
   ]
  },
  {
   "cell_type": "markdown",
   "metadata": {},
   "source": [
    "#### 5. What is the hypothesis?"
   ]
  },
  {
   "cell_type": "markdown",
   "metadata": {},
   "source": [
    "Answer: A student's GRE Score, GPA, and prestige of their undergraduate alma mater will allow us to predict whether they are admitted to graduate school or not"
   ]
  },
  {
   "cell_type": "markdown",
   "metadata": {},
   "source": [
    "## Problem Statement"
   ]
  },
  {
   "cell_type": "markdown",
   "metadata": {},
   "source": [
    "Determine which students will be admitted to graduate school, using their GRE (Graduate Record Examination) score, undergraduate GPA (grade point average), and prestigate of their undergraduate alma mater (1=highest prestige, 2, 3 or 4) based hypothetical data from UCLA."
   ]
  },
  {
   "cell_type": "markdown",
   "metadata": {},
   "source": [
    "### Exploratory Analysis Plan"
   ]
  },
  {
   "cell_type": "markdown",
   "metadata": {},
   "source": [
    "Using the lab from a class as a guide, create an exploratory analysis plan. "
   ]
  },
  {
   "cell_type": "markdown",
   "metadata": {},
   "source": [
    "#### 1. What are the goals of the exploratory analysis? "
   ]
  },
  {
   "cell_type": "markdown",
   "metadata": {
    "collapsed": true
   },
   "source": [
    "Answer: To become familiar with all aspects (such as data types, number of missing values) and distributions of the variables the data set in order to prepare it to be used in a machine learning algorithm"
   ]
  },
  {
   "cell_type": "markdown",
   "metadata": {},
   "source": [
    "#### 2a. What are the assumptions of the distribution of data? "
   ]
  },
  {
   "cell_type": "markdown",
   "metadata": {},
   "source": [
    "Answer: Generally, we assume that the data are normally distributed (at least the continuous variables)"
   ]
  },
  {
   "cell_type": "markdown",
   "metadata": {},
   "source": [
    "#### 2b. How will determine the distribution of your data? "
   ]
  },
  {
   "cell_type": "markdown",
   "metadata": {
    "collapsed": true
   },
   "source": [
    "Answer: By computing various summary statistics on all of the variables (mean, median (and other quantiles), mode, standard deviation), visualizing the distributions using boxplots and/or histograms, examining the skew and kurtosis"
   ]
  },
  {
   "cell_type": "markdown",
   "metadata": {},
   "source": [
    "#### 3a. How might outliers impact your analysis? "
   ]
  },
  {
   "cell_type": "markdown",
   "metadata": {
    "collapsed": true
   },
   "source": [
    "Answer: Because outliers skew the distributions of the variables, they can affect the accuracy of predictive models (making the models biased), particularly for models that use the means of the variables to calculate parameter estimates"
   ]
  },
  {
   "cell_type": "markdown",
   "metadata": {},
   "source": [
    "#### 3b. How will you test for outliers? "
   ]
  },
  {
   "cell_type": "markdown",
   "metadata": {},
   "source": [
    "Answer: The most basic way to check for outliers in each of the variables is to look for values \n",
    "* lower than: Q1 (25th percentile point) - 1.5`*`IQR (interquartile range) and\n",
    "* higher than: Q3 (75th percentile point) + 1.5`*`IQR\n",
    "\n",
    "For a more strict definition (if too many points are identified as outliers for instance) we can change the 1.5 multiplier to 3."
   ]
  },
  {
   "cell_type": "markdown",
   "metadata": {},
   "source": [
    "#### 4a. What is colinearity? "
   ]
  },
  {
   "cell_type": "markdown",
   "metadata": {
    "collapsed": true
   },
   "source": [
    "Answer: Collinearity is when 2 or more variables in a dataset are highly correlated"
   ]
  },
  {
   "cell_type": "markdown",
   "metadata": {},
   "source": [
    "#### 4b. How will you test for colinearity? "
   ]
  },
  {
   "cell_type": "markdown",
   "metadata": {},
   "source": [
    "Answer: We can look at the correlation matrix for the dataset to see which variables have a correlation coefficient close to +1 or -1 with any of the other variables"
   ]
  },
  {
   "cell_type": "markdown",
   "metadata": {},
   "source": [
    "#### 5. What is your exploratory analysis plan?\n",
    "Using the above information, write an exploratory analysis plan that would allow you or a colleague to reproduce your analysis 1 year from now. "
   ]
  },
  {
   "cell_type": "markdown",
   "metadata": {},
   "source": [
    "Answer: \n",
    "1. Load the dataset and count the number of observations and missing values for each column (variable). Assess whether missing values should be dropped (if there are few enough of them) or imputed\n",
    "2. Create a table of summary statistics of the data containing the mean, standard deviation, minimum, median (and other quantiles), maximum, and mode for the continuous variables\n",
    "3. Create boxplots for each of the continuous variables to examine the distributions. To further explore the distributions, we can plot histograms and compute the skew and kurtosis for each variable. Determine if any of the variables violate the normality assumptions, and assess whether transformations (such as log) are needed\n",
    "4. Further check for outliers in each variable by seeing how many points fall below Q1-1.5`*`IQR or above Q3+1.5`*`IQR. Assess whether to remove the outliers, cap them or keep them as is\n",
    "5. Check for collinearity for the continuous variables by looking at the correlation matrix - check if there are pairs of variables that have a correlation coefficient close to +1 or -1\n",
    "6. For categorical variables (in this case \"Prestige\"), create a cross tabulation with the outcome variable (\"Admit\") to explore the associations"
   ]
  },
  {
   "cell_type": "markdown",
   "metadata": {},
   "source": [
    "## Bonus Questions:\n",
    "1. Outline your analysis method for predicting your outcome\n",
    "2. Write an alternative problem statement for your dataset\n",
    "3. Articulate the assumptions and risks of the alternative model"
   ]
  },
  {
   "cell_type": "markdown",
   "metadata": {
    "collapsed": true
   },
   "source": [
    "1. 1. Complete 2 more preliminary steps: 1) for categorical predictor variables (in this case just Prestige), create dummy variables. Since Prestige has 4 categories, we will create 3 new variables prestige_2, prestige_3 and prestige_4 and treat prestige_1 as the baseline and exclude it from the model. 2) If GRE and GPA were sufficiently correlated, we would consider removing one of them from the model.\n",
    "   2. We will use logistic regression to predict the probability of admission using GPA, GRE, prestige_2, prestige_3 and prestige_4 as predictors. \n",
    "   3. After the model is fit, we will look at the coefficients (and exponentiate them to look at odds ratios) to see how each variable affects the admission probability, and look at the confidence intervals for the coefficients to evaluate the model's robustness."
   ]
  },
  {
   "cell_type": "code",
   "execution_count": 5,
   "metadata": {
    "collapsed": false
   },
   "outputs": [
    {
     "name": "stdout",
     "output_type": "stream",
     "text": [
      "/bin/sh: cdls: command not found\r\n"
     ]
    }
   ],
   "source": [
    "!cd .."
   ]
  },
  {
   "cell_type": "code",
   "execution_count": 6,
   "metadata": {
    "collapsed": false
   },
   "outputs": [
    {
     "name": "stdout",
     "output_type": "stream",
     "text": [
      "Certificate-of-Completion-costanza.sierra@gmail.com-1490998054.pdf\r\n",
      "Final_Project\r\n",
      "Lessons\r\n",
      "Project_1.ipynb\r\n",
      "Project_2.ipynb\r\n",
      "Project_3.ipynb\r\n",
      "README.md\r\n"
     ]
    }
   ],
   "source": [
    "!ls"
   ]
  },
  {
   "cell_type": "code",
   "execution_count": 7,
   "metadata": {
    "collapsed": true
   },
   "outputs": [],
   "source": [
    "!cd .."
   ]
  },
  {
   "cell_type": "code",
   "execution_count": 8,
   "metadata": {
    "collapsed": false
   },
   "outputs": [
    {
     "name": "stdout",
     "output_type": "stream",
     "text": [
      "Certificate-of-Completion-costanza.sierra@gmail.com-1490998054.pdf\r\n",
      "Final_Project\r\n",
      "Lessons\r\n",
      "Project_1.ipynb\r\n",
      "Project_2.ipynb\r\n",
      "Project_3.ipynb\r\n",
      "README.md\r\n"
     ]
    }
   ],
   "source": [
    "!ls"
   ]
  },
  {
   "cell_type": "code",
   "execution_count": null,
   "metadata": {
    "collapsed": true
   },
   "outputs": [],
   "source": []
  }
 ],
 "metadata": {
  "anaconda-cloud": {},
  "kernelspec": {
   "display_name": "Python 2",
   "language": "python",
   "name": "python2"
  },
  "language_info": {
   "codemirror_mode": {
    "name": "ipython",
    "version": 2
   },
   "file_extension": ".py",
   "mimetype": "text/x-python",
   "name": "python",
   "nbconvert_exporter": "python",
   "pygments_lexer": "ipython2",
   "version": "2.7.13"
  }
 },
 "nbformat": 4,
 "nbformat_minor": 0
}
