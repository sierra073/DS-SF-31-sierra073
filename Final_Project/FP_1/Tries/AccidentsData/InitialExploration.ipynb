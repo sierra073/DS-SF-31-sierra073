{
 "cells": [
  {
   "cell_type": "code",
   "execution_count": 1,
   "metadata": {
    "collapsed": false
   },
   "outputs": [
    {
     "data": {
      "text/html": [
       "<div>\n",
       "<table border=\"1\" class=\"dataframe\">\n",
       "  <thead>\n",
       "    <tr style=\"text-align: right;\">\n",
       "      <th></th>\n",
       "      <th>A_AGE1</th>\n",
       "      <th>A_AGE2</th>\n",
       "      <th>A_AGE3</th>\n",
       "      <th>A_AGE4</th>\n",
       "      <th>A_AGE5</th>\n",
       "      <th>A_AGE6</th>\n",
       "      <th>A_AGE7</th>\n",
       "      <th>A_AGE8</th>\n",
       "      <th>A_AGE9</th>\n",
       "      <th>ST_CASE</th>\n",
       "      <th>...</th>\n",
       "      <th>YEAR</th>\n",
       "      <th>A_PTYPE</th>\n",
       "      <th>A_REST</th>\n",
       "      <th>A_ALCTES</th>\n",
       "      <th>A_HISP</th>\n",
       "      <th>A_RCAT</th>\n",
       "      <th>A_HRACE</th>\n",
       "      <th>A_EJECT</th>\n",
       "      <th>A_PERINJ</th>\n",
       "      <th>A_LOC</th>\n",
       "    </tr>\n",
       "  </thead>\n",
       "  <tbody>\n",
       "    <tr>\n",
       "      <th>0</th>\n",
       "      <td>4</td>\n",
       "      <td>5</td>\n",
       "      <td>11</td>\n",
       "      <td>7</td>\n",
       "      <td>8</td>\n",
       "      <td>8</td>\n",
       "      <td>10</td>\n",
       "      <td>6</td>\n",
       "      <td>2</td>\n",
       "      <td>10001</td>\n",
       "      <td>...</td>\n",
       "      <td>2015</td>\n",
       "      <td>1</td>\n",
       "      <td>2</td>\n",
       "      <td>2</td>\n",
       "      <td>1</td>\n",
       "      <td>1</td>\n",
       "      <td>2</td>\n",
       "      <td>1</td>\n",
       "      <td>1</td>\n",
       "      <td>1</td>\n",
       "    </tr>\n",
       "    <tr>\n",
       "      <th>1</th>\n",
       "      <td>3</td>\n",
       "      <td>5</td>\n",
       "      <td>9</td>\n",
       "      <td>6</td>\n",
       "      <td>6</td>\n",
       "      <td>6</td>\n",
       "      <td>8</td>\n",
       "      <td>4</td>\n",
       "      <td>2</td>\n",
       "      <td>10002</td>\n",
       "      <td>...</td>\n",
       "      <td>2015</td>\n",
       "      <td>1</td>\n",
       "      <td>2</td>\n",
       "      <td>1</td>\n",
       "      <td>1</td>\n",
       "      <td>1</td>\n",
       "      <td>2</td>\n",
       "      <td>2</td>\n",
       "      <td>1</td>\n",
       "      <td>1</td>\n",
       "    </tr>\n",
       "    <tr>\n",
       "      <th>2</th>\n",
       "      <td>3</td>\n",
       "      <td>4</td>\n",
       "      <td>7</td>\n",
       "      <td>4</td>\n",
       "      <td>4</td>\n",
       "      <td>4</td>\n",
       "      <td>6</td>\n",
       "      <td>3</td>\n",
       "      <td>2</td>\n",
       "      <td>10003</td>\n",
       "      <td>...</td>\n",
       "      <td>2015</td>\n",
       "      <td>1</td>\n",
       "      <td>2</td>\n",
       "      <td>2</td>\n",
       "      <td>1</td>\n",
       "      <td>2</td>\n",
       "      <td>3</td>\n",
       "      <td>1</td>\n",
       "      <td>1</td>\n",
       "      <td>1</td>\n",
       "    </tr>\n",
       "    <tr>\n",
       "      <th>3</th>\n",
       "      <td>2</td>\n",
       "      <td>2</td>\n",
       "      <td>5</td>\n",
       "      <td>2</td>\n",
       "      <td>2</td>\n",
       "      <td>2</td>\n",
       "      <td>4</td>\n",
       "      <td>2</td>\n",
       "      <td>2</td>\n",
       "      <td>10003</td>\n",
       "      <td>...</td>\n",
       "      <td>2015</td>\n",
       "      <td>2</td>\n",
       "      <td>2</td>\n",
       "      <td>3</td>\n",
       "      <td>0</td>\n",
       "      <td>0</td>\n",
       "      <td>0</td>\n",
       "      <td>1</td>\n",
       "      <td>6</td>\n",
       "      <td>1</td>\n",
       "    </tr>\n",
       "    <tr>\n",
       "      <th>4</th>\n",
       "      <td>3</td>\n",
       "      <td>5</td>\n",
       "      <td>8</td>\n",
       "      <td>5</td>\n",
       "      <td>5</td>\n",
       "      <td>5</td>\n",
       "      <td>7</td>\n",
       "      <td>4</td>\n",
       "      <td>2</td>\n",
       "      <td>10004</td>\n",
       "      <td>...</td>\n",
       "      <td>2015</td>\n",
       "      <td>1</td>\n",
       "      <td>2</td>\n",
       "      <td>2</td>\n",
       "      <td>1</td>\n",
       "      <td>1</td>\n",
       "      <td>2</td>\n",
       "      <td>1</td>\n",
       "      <td>1</td>\n",
       "      <td>1</td>\n",
       "    </tr>\n",
       "  </tbody>\n",
       "</table>\n",
       "<p>5 rows × 22 columns</p>\n",
       "</div>"
      ],
      "text/plain": [
       "   A_AGE1  A_AGE2  A_AGE3  A_AGE4  A_AGE5  A_AGE6  A_AGE7  A_AGE8  A_AGE9  \\\n",
       "0       4       5      11       7       8       8      10       6       2   \n",
       "1       3       5       9       6       6       6       8       4       2   \n",
       "2       3       4       7       4       4       4       6       3       2   \n",
       "3       2       2       5       2       2       2       4       2       2   \n",
       "4       3       5       8       5       5       5       7       4       2   \n",
       "\n",
       "   ST_CASE  ...    YEAR  A_PTYPE  A_REST  A_ALCTES  A_HISP  A_RCAT  A_HRACE  \\\n",
       "0    10001  ...    2015        1       2         2       1       1        2   \n",
       "1    10002  ...    2015        1       2         1       1       1        2   \n",
       "2    10003  ...    2015        1       2         2       1       2        3   \n",
       "3    10003  ...    2015        2       2         3       0       0        0   \n",
       "4    10004  ...    2015        1       2         2       1       1        2   \n",
       "\n",
       "   A_EJECT  A_PERINJ  A_LOC  \n",
       "0        1         1      1  \n",
       "1        2         1      1  \n",
       "2        1         1      1  \n",
       "3        1         6      1  \n",
       "4        1         1      1  \n",
       "\n",
       "[5 rows x 22 columns]"
      ]
     },
     "execution_count": 1,
     "metadata": {},
     "output_type": "execute_result"
    }
   ],
   "source": [
    "import pandas as pd\n",
    "per_aux=pd.read_csv('PER_AUX.csv')\n",
    "per_aux.head()"
   ]
  },
  {
   "cell_type": "code",
   "execution_count": 15,
   "metadata": {
    "collapsed": false
   },
   "outputs": [],
   "source": [
    "per_aux_sum=pd.DataFrame(per_aux.groupby(['ST_CASE','A_PTYPE']).size())"
   ]
  },
  {
   "cell_type": "code",
   "execution_count": 16,
   "metadata": {
    "collapsed": false
   },
   "outputs": [
    {
     "data": {
      "text/html": [
       "<div>\n",
       "<table border=\"1\" class=\"dataframe\">\n",
       "  <thead>\n",
       "    <tr style=\"text-align: right;\">\n",
       "      <th></th>\n",
       "      <th></th>\n",
       "      <th>0</th>\n",
       "    </tr>\n",
       "    <tr>\n",
       "      <th>ST_CASE</th>\n",
       "      <th>A_PTYPE</th>\n",
       "      <th></th>\n",
       "    </tr>\n",
       "  </thead>\n",
       "  <tbody>\n",
       "    <tr>\n",
       "      <th>10001</th>\n",
       "      <th>1</th>\n",
       "      <td>1</td>\n",
       "    </tr>\n",
       "    <tr>\n",
       "      <th>10002</th>\n",
       "      <th>1</th>\n",
       "      <td>1</td>\n",
       "    </tr>\n",
       "    <tr>\n",
       "      <th rowspan=\"2\" valign=\"top\">10003</th>\n",
       "      <th>1</th>\n",
       "      <td>1</td>\n",
       "    </tr>\n",
       "    <tr>\n",
       "      <th>2</th>\n",
       "      <td>1</td>\n",
       "    </tr>\n",
       "    <tr>\n",
       "      <th>10004</th>\n",
       "      <th>1</th>\n",
       "      <td>1</td>\n",
       "    </tr>\n",
       "  </tbody>\n",
       "</table>\n",
       "</div>"
      ],
      "text/plain": [
       "                 0\n",
       "ST_CASE A_PTYPE   \n",
       "10001   1        1\n",
       "10002   1        1\n",
       "10003   1        1\n",
       "        2        1\n",
       "10004   1        1"
      ]
     },
     "execution_count": 16,
     "metadata": {},
     "output_type": "execute_result"
    }
   ],
   "source": [
    "per_aux_sum.head()"
   ]
  },
  {
   "cell_type": "code",
   "execution_count": 17,
   "metadata": {
    "collapsed": false
   },
   "outputs": [
    {
     "data": {
      "text/html": [
       "<div>\n",
       "<table border=\"1\" class=\"dataframe\">\n",
       "  <thead>\n",
       "    <tr style=\"text-align: right;\">\n",
       "      <th></th>\n",
       "      <th></th>\n",
       "      <th>0</th>\n",
       "    </tr>\n",
       "    <tr>\n",
       "      <th>ST_CASE</th>\n",
       "      <th>A_PTYPE</th>\n",
       "      <th></th>\n",
       "    </tr>\n",
       "  </thead>\n",
       "  <tbody>\n",
       "    <tr>\n",
       "      <th>10001</th>\n",
       "      <th>1</th>\n",
       "      <td>1</td>\n",
       "    </tr>\n",
       "    <tr>\n",
       "      <th>10002</th>\n",
       "      <th>1</th>\n",
       "      <td>1</td>\n",
       "    </tr>\n",
       "    <tr>\n",
       "      <th rowspan=\"2\" valign=\"top\">10003</th>\n",
       "      <th>1</th>\n",
       "      <td>1</td>\n",
       "    </tr>\n",
       "    <tr>\n",
       "      <th>2</th>\n",
       "      <td>1</td>\n",
       "    </tr>\n",
       "    <tr>\n",
       "      <th>10004</th>\n",
       "      <th>1</th>\n",
       "      <td>1</td>\n",
       "    </tr>\n",
       "  </tbody>\n",
       "</table>\n",
       "</div>"
      ],
      "text/plain": [
       "                 0\n",
       "ST_CASE A_PTYPE   \n",
       "10001   1        1\n",
       "10002   1        1\n",
       "10003   1        1\n",
       "        2        1\n",
       "10004   1        1"
      ]
     },
     "execution_count": 17,
     "metadata": {},
     "output_type": "execute_result"
    }
   ],
   "source": [
    "per_aux_sum.head()"
   ]
  },
  {
   "cell_type": "code",
   "execution_count": 20,
   "metadata": {
    "collapsed": false
   },
   "outputs": [
    {
     "data": {
      "text/plain": [
       "array([0], dtype=int64)"
      ]
     },
     "execution_count": 20,
     "metadata": {},
     "output_type": "execute_result"
    }
   ],
   "source": [
    "per_aux_sum.columns.values"
   ]
  },
  {
   "cell_type": "code",
   "execution_count": 26,
   "metadata": {
    "collapsed": false
   },
   "outputs": [
    {
     "data": {
      "text/plain": [
       "0     True\n",
       "1     True\n",
       "2     True\n",
       "3    False\n",
       "4     True\n",
       "Name: A_PTYPE, dtype: bool"
      ]
     },
     "execution_count": 26,
     "metadata": {},
     "output_type": "execute_result"
    }
   ],
   "source": [
    "(per_aux['A_PTYPE']==1).head()"
   ]
  },
  {
   "cell_type": "code",
   "execution_count": 32,
   "metadata": {
    "collapsed": false
   },
   "outputs": [
    {
     "data": {
      "text/plain": [
       "ST_CASE  A_PTYPE\n",
       "10001    1          1\n",
       "10002    1          1\n",
       "10003    1          1\n",
       "10004    1          1\n",
       "10005    1          2\n",
       "10006    1          1\n",
       "10007    1          1\n",
       "10008    1          1\n",
       "10009    1          1\n",
       "10010    1          2\n",
       "10011    1          2\n",
       "10012    1          3\n",
       "10013    1          1\n",
       "10014    1          1\n",
       "10015    1          1\n",
       "10016    1          2\n",
       "10017    1          1\n",
       "10018    1          1\n",
       "10019    1          1\n",
       "10020    1          2\n",
       "10021    1          2\n",
       "10022    1          1\n",
       "10023    1          1\n",
       "10024    1          1\n",
       "10025    1          1\n",
       "10026    1          1\n",
       "10027    1          2\n",
       "10028    1          1\n",
       "10029    1          1\n",
       "10030    1          2\n",
       "                   ..\n",
       "560101   1          2\n",
       "560102   1          1\n",
       "560103   1          1\n",
       "560104   1          1\n",
       "560105   1          1\n",
       "560106   1          1\n",
       "560107   1          1\n",
       "560108   1          1\n",
       "560109   1          2\n",
       "560110   1          1\n",
       "560111   1          1\n",
       "560112   1          1\n",
       "560113   1          1\n",
       "560114   1          1\n",
       "560115   1          1\n",
       "560116   1          1\n",
       "560117   1          1\n",
       "560118   1          1\n",
       "560119   1          2\n",
       "560120   1          1\n",
       "560121   1          2\n",
       "560122   1          2\n",
       "560123   1          1\n",
       "560124   1          1\n",
       "560125   1          2\n",
       "560126   1          2\n",
       "560127   1          1\n",
       "560128   1          2\n",
       "560129   1          2\n",
       "560130   1          1\n",
       "dtype: int64"
      ]
     },
     "execution_count": 32,
     "metadata": {},
     "output_type": "execute_result"
    }
   ],
   "source": [
    "per_aux[per_aux['A_PTYPE']==1].groupby(['ST_CASE','A_PTYPE']).size()"
   ]
  },
  {
   "cell_type": "code",
   "execution_count": null,
   "metadata": {
    "collapsed": true
   },
   "outputs": [],
   "source": []
  }
 ],
 "metadata": {
  "anaconda-cloud": {},
  "kernelspec": {
   "display_name": "Python [conda root]",
   "language": "python",
   "name": "conda-root-py"
  },
  "language_info": {
   "codemirror_mode": {
    "name": "ipython",
    "version": 2
   },
   "file_extension": ".py",
   "mimetype": "text/x-python",
   "name": "python",
   "nbconvert_exporter": "python",
   "pygments_lexer": "ipython2",
   "version": "2.7.12"
  }
 },
 "nbformat": 4,
 "nbformat_minor": 1
}
