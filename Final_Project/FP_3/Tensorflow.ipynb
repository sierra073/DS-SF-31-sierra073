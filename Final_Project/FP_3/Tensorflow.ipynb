{
 "cells": [
  {
   "cell_type": "code",
   "execution_count": 1,
   "metadata": {
    "collapsed": false
   },
   "outputs": [
    {
     "name": "stdout",
     "output_type": "stream",
     "text": [
      "(601, 8)\n",
      "(306, 7)\n",
      "(2135, 8)\n",
      "(467, 7)\n",
      "(2170, 8)\n",
      "(488, 7)\n",
      "(246, 8)\n",
      "(87, 7)\n"
     ]
    }
   ],
   "source": [
    "import pandas as pd\n",
    "#load the page level data and document level data for each document class (stored in different folders)\n",
    "rel_page=pd.read_csv('Data/betadata-master/medical_records_release_form/pdf_text_by_page.csv',error_bad_lines=False,encoding='utf-8')\n",
    "rel_page['class']='0'\n",
    "rel_doc=pd.read_csv('Data/betadata-master/medical_records_release_form/pdf_text_by_file.csv',error_bad_lines=False,encoding='utf-8')\n",
    "rel_doc['class']='0'\n",
    "cons_page=pd.read_csv('Data/betadata-master/informed consent form/pdf_text_by_page.csv',error_bad_lines=False,encoding='utf-8')\n",
    "cons_page['class']='1'\n",
    "cons_doc=pd.read_csv('Data/betadata-master/informed consent form/pdf_text_by_file.csv',error_bad_lines=False,encoding='utf-8')\n",
    "cons_doc['class']='1'\n",
    "int_page=pd.read_csv('Data/betadata-master/patient intake form/pdf_text_by_page.csv',error_bad_lines=False,encoding='utf-8')\n",
    "int_page['class']='2'\n",
    "int_doc=pd.read_csv('Data/betadata-master/patient intake form/pdf_text_by_file.csv',error_bad_lines=False,encoding='utf-8')\n",
    "int_doc['class']='2'\n",
    "med_page=pd.read_csv('Data/betadata-master/medical form/pdf_text_by_page.csv',error_bad_lines=False,encoding='utf-8')\n",
    "med_page['class']='3'\n",
    "med_doc=pd.read_csv('Data/betadata-master/medical form/pdf_text_by_file.csv',error_bad_lines=False,encoding='utf-8')\n",
    "med_doc['class']='3'\n",
    "#print the dimensions\n",
    "dataframes=[rel_page,rel_doc,cons_page,cons_doc,int_page,int_doc,med_page,med_doc]\n",
    "for d in dataframes:\n",
    "    print(d.shape)"
   ]
  },
  {
   "cell_type": "code",
   "execution_count": 2,
   "metadata": {
    "collapsed": false
   },
   "outputs": [
    {
     "name": "stdout",
     "output_type": "stream",
     "text": [
      "(1348, 7)\n",
      "(5152, 8)\n"
     ]
    }
   ],
   "source": [
    "doc_level=[rel_doc,cons_doc,int_doc,med_doc]\n",
    "page_level=[rel_page,cons_page,int_page,med_page]\n",
    "data_doc=pd.concat(doc_level)\n",
    "data_page=pd.concat(page_level)\n",
    "print(data_doc.shape) \n",
    "print(data_page.shape) "
   ]
  },
  {
   "cell_type": "code",
   "execution_count": 3,
   "metadata": {
    "collapsed": false
   },
   "outputs": [
    {
     "name": "stdout",
     "output_type": "stream",
     "text": [
      "2    0.362018\n",
      "1    0.346439\n",
      "0    0.227003\n",
      "3    0.064540\n",
      "Name: class, dtype: float64\n",
      "2    488\n",
      "1    467\n",
      "0    306\n",
      "3     87\n",
      "Name: class, dtype: int64\n",
      "2    0.421196\n",
      "1    0.414402\n",
      "0    0.116654\n",
      "3    0.047748\n",
      "Name: class, dtype: float64\n",
      "2    2170\n",
      "1    2135\n",
      "0     601\n",
      "3     246\n",
      "Name: class, dtype: int64\n"
     ]
    }
   ],
   "source": [
    "#shuffle rows\n",
    "data_doc = data_doc.sample(frac=1,random_state=3).reset_index(drop=True)\n",
    "data_page= data_page.sample(frac=1,random_state=3).reset_index(drop=True)\n",
    "print(data_doc['class'].value_counts(normalize=True))\n",
    "print(data_doc['class'].value_counts())\n",
    "print(data_page['class'].value_counts(normalize=True))\n",
    "print(data_page['class'].value_counts())"
   ]
  },
  {
   "cell_type": "code",
   "execution_count": 4,
   "metadata": {
    "collapsed": false
   },
   "outputs": [
    {
     "name": "stdout",
     "output_type": "stream",
     "text": [
      "(951, 8)\n",
      "(3630, 9)\n"
     ]
    }
   ],
   "source": [
    "#remove duplicates and NAs based on text content - expected to be a lot of these\n",
    "data_doc=data_doc.drop_duplicates(subset=['text']).dropna(subset=['text'])\n",
    "data_page=data_page.drop_duplicates(subset=['text']).dropna(subset=['text'])\n",
    "#add an extra id column\n",
    "data_doc['id'] = range(1, len(data_doc) + 1)\n",
    "data_page['id'] = range(1, len(data_page) + 1)\n",
    "print(data_doc.shape)\n",
    "print(data_page.shape)"
   ]
  },
  {
   "cell_type": "code",
   "execution_count": 5,
   "metadata": {
    "collapsed": true
   },
   "outputs": [],
   "source": [
    "# define X and y for each dataframe\n",
    "Xd = data_doc.text\n",
    "yd = data_doc['class']\n",
    "Xp = data_page.text\n",
    "yp = data_page['class']"
   ]
  },
  {
   "cell_type": "code",
   "execution_count": 6,
   "metadata": {
    "collapsed": false
   },
   "outputs": [],
   "source": [
    "from sklearn.feature_extraction.text import CountVectorizer, TfidfVectorizer, TfidfTransformer\n",
    "#from textblob import TextBlob, Word\n",
    "from nltk.stem.snowball import SnowballStemmer\n",
    "\n",
    "vect = CountVectorizer()"
   ]
  },
  {
   "cell_type": "code",
   "execution_count": 7,
   "metadata": {
    "collapsed": false
   },
   "outputs": [
    {
     "name": "stdout",
     "output_type": "stream",
     "text": [
      "(951, 38491)\n",
      "(3630, 37709)\n",
      "['animation', 'anindividual', 'aninformation', 'aninformed', 'aninvestigatormustinformtheirbiftheyintend', 'anit', 'ankle', 'ankles', 'ankylosing', 'ankylosis', 'anmed', 'ann', 'anna', 'annals', 'annas', 'anne', 'anniversary', 'annotated', 'annotations', 'announce', 'announced', 'announcements', 'announces', 'annoy', 'annoyed', 'annoying', 'annoys', 'annu', 'annual', 'annually', 'annualstatutes', 'ano', 'anomalies', 'anomaly', 'anon', 'anonymity', 'anonymization', 'anonymous', 'anonymously', 'anopportunitytoaskanyquestions', 'anorectices', 'anorexia', 'anoscopy', 'anot', 'anote', 'another', 'anotherstudy', 'anp', 'anprovide', 'anpualrrquorssuch', 'anr', 'anreosbtsiaem', 'ans', 'ansara', 'anselmo', 'ansometimes', 'answ', 'answe', 'answer', 'answercompletedby', 'answered', 'answeredwithina', 'answerfield', 'answergiventorequestorby', 'answerinatertiary', 'answering', 'answerisneededhelpsprioritizerequestsand', 'answerneededfield', 'answers', 'answersandmtmlt', 'answerthequestioninthefirstsentenceofthe', 'answerto', 'ansxiety', 'ant', 'antabuse', 'antacid', 'antacids', 'antdhis', 'ante', 'antecedentes', 'antenatal', 'antepartum', 'anterior', 'anteriormente', 'antes', 'anthony', 'anthropology', 'anti', 'antianxiety', 'antiaopnpflicrainsurance', 'antib', 'antibacterial', 'antibiotic', 'antibioticlocal', 'antibiotics', 'antibodies', 'antibody', 'anticipaated', 'anticipae', 'anticipate', 'anticipatecpherson', 'anticipated', 'anticipates', 'anticipating', 'anticipation', 'anticoagulants', 'anticonvulsant', 'antidepressa', 'antidepressants', 'antidiuretic', 'antidotes', 'antiemetic', 'antifraudwarning', 'antige', 'antigen', 'antigens', 'antihistamine', 'antihistamines', 'antihistaminic', 'antiinflammatories', 'antimicrobial', 'antimycotics', 'antin', 'antiobiotics', 'antioch', 'antiparkinsonian', 'antipaternalism', 'antipsychotic', 'antipsychotics', 'antipyretic', 'antiquity', 'antiretrovirals', 'antisepti', 'antiseptic', 'antiseptics', 'antisocial', 'antisperm', 'antitoxin', 'antiviral', 'antoher', 'anton', 'antonio', 'ants', 'anurag', 'anus', 'anx', 'anxieties', 'anxietit', 'anxiety', 'anxiolysis', 'anxious', 'anxiousness', 'any', 'anyand', 'anyappropriatealternativeprocedures', 'anyattached', 'anybody', 'anybodynewto', 'anychangesinmymedications', 'anydrugordevicetobeutilized', 'anyesfer', 'anyfinancial', 'anyi', 'anyin', 'anyincidence', 'anyinjures', 'anyinsurancecompany', 'anymedical', 'anymedications', 'anymore', 'anynamed', 'anyofthe', 'anyoftheaboveconditions', 'anyone', 'anyonea', 'anyother', 'anyparsdonundrelinasecdyear', 'anyprecautionsor', 'anyquestions', 'anyrecording', 'anytfearthaereto', 'anything', 'anytime', 'anytimeyoumayquestionand', 'anyway', 'anywhere', 'anza', 'ao', 'aob', 'aocc', 'aoccs', 'aod', 'aolf', 'aoma', 'aopdtfrgaud', 'aopnpficraitnisurance', 'aopnpflicraitnisurance', 'aorta', 'aortic', 'aotearoa', 'ap', 'apa', 'apapointed', 'apart', 'apartamento', 'aparticipant', 'apartme', 'apartment', 'apathy', 'apatient', 'apcheck', 'apctzip', 'apd', 'apdcares', 'apec', 'apediatrician', 'apellido', 'aperiod', 'aperson', 'apex', 'apexification', 'apgar', 'apheresis', 'aplastic', 'aplican', 'apn', 'apnea', 'apnoea', 'apodized', 'apolicies', 'apologize', 'app', 'appalachian', 'appar', 'apparatus', 'apparent', 'apparently', 'apparentmay', 'appbendixrotccinita', 'appe', 'appea', 'appeal', 'appealable', 'appealed', 'appealing', 'appeals', 'appealscontact', 'appear', 'appearance', 'appearances', 'appeared', 'appearing', 'appears', 'appeartorelease', 'appedizziness', 'appelbaum', 'appellate', 'appen', 'append', 'appendectomy', 'appended', 'appendicectomy', 'appendices', 'appendicitis', 'appendix', 'appetite', 'appetitenone', 'appetiteo', 'appetites', 'appetiteyes', 'appetitive', 'appilfable', 'appl', 'applakron', 'appleby', 'apples', 'appletree', 'appli', 'applian', 'appliance', 'appliances', 'applic', 'applica', 'applicab', 'applicability', 'applicable', 'applicableh', 'applicablnone', 'applicablrelationship', 'applican', 'applicant', 'applicants', 'applicapractice', 'applicatio', 'application', 'applications', 'applicationsc', 'applicator', 'applicators', 'applied', 'appliedresearch', 'applies', 'appliesto', 'apply', 'applying', 'applyto', 'appmanager', 'appo', 'appoi', 'appoint', 'appointed', 'appointee', 'appointees', 'appointing', 'appointm', 'appointme', 'appointment', 'appointments', 'appointmentsalltreatmentsarebyappointmentonly', 'appointmentsas', 'appointmentsthat', 'appoints', 'appproximated', 'appraisal', 'appreciable', 'appreciate', 'appreciated', 'appreciates', 'appreciation', 'apprehend', 'apprehension', 'apprentice', 'apprenticeship', 'apprise', 'apprised', 'apprising', 'appro', 'approach', 'approached', 'approaches', 'approaching', 'approacih', 'approp', 'appropariate', 'appropr', 'appropri', 'appropria', 'appropriat', 'appropriate', 'appropriatefor', 'appropriately', 'appropriateness', 'appropriati', 'appropriation', 'appropriaute', 'approthis', 'approvable', 'approval', 'approvals', 'approvaltime', 'approve', 'approved', 'approvedconsent', 'approvedenglishversion', 'approvedinformed', 'approvedtheresponse', 'approvedthis', 'approver', 'approves', 'approvestudy', 'approvethis', 'approving', 'approvthis', 'approx', 'approxi', 'approxim', 'approximate', 'approximately', 'approximates', 'approximations', 'apprr', 'appt', 'appts', 'apr', 'apre', 'apri2l010', 'april', 'aprivilege', 'aprosioiarluptosclancoulsedhclgsehater', 'aproximadamente', 'aps', 'apt', 'apter', 'apthis', 'aptitude', 'aptitudes', 'aptivus', 'apways', 'apy', 'aq', 'aquatic', 'aqueous', 'aquestions', 'aquick', 'ar', 'arabic', 'aranth', 'arapahoe', 'aras', 'arbiter', 'arbiters', 'arbitrarily', 'arbitrary', 'arbitrate', 'arbitrated', 'arbitration', 'arbitrator', 'arbitrators', 'arbor', 'arc', 'arch', 'archana', 'archery', 'archival', 'archive', 'archived', 'archives', 'archiving', 'archivo', 'arcpetition', 'arcs', 'arctic', 'arcuate', 'ardent', 'ardian', 'arding', 'ardiovascular', 'are', 'are1', 'area', 'aready', 'areas', 'areassuredthatconfidentialityisprodbyethical', 'arechecked', 'arecurrently', 'aredescribed', 'areexas', 'arelative', 'arelost', 'aremembthen', 'aremy', 'aren', 'arena', 'arenas', 'areno', 'arenot', 'arents', 'areor', 'arequirement', 'arequirementtoproducea', 'arerequired', 'arerfmed', 'ares', 'aresearch', 'aresentbymail', 'aresponse', 'aresume', 'areview', 'areyouacoveredentity', 'areyouunderthecareofaphysiciannow', 'arginine', 'argosy', 'argue', 'argued', 'argues', 'arguing', 'argument', 'argumentative', 'arguments', 'argyle', 'ari', 'aria', 'aries', 'aripiprazole', 'ariport', 'arise', 'arisen', 'arises', 'arising', 'aristocracy', 'aristospan', 'arital', 'aritbyn', 'arizona', 'arizonacoordinator', 'arjun', 'arkansas', 'arlington', 'arm', 'armale', 'armed', 'armenian', 'armin', 'armistead', 'armpits', 'arms', 'armso001', 'armson', 'armstrong', 'arnetz', 'arnica', 'arning', 'arnp', 'arntz', 'arogiamctor', 'aroma', 'aromas', 'aromatherapy', 'arose', 'around', 'arouse', 'arp', 'arpositive', 'arr', 'arrange', 'arranged', 'arrangemen', 'arrangement', 'arrangements', 'arranging', 'arratvpelan', 'array', 'arrest', 'arrested', 'arrests', 'arrhythmia', 'arrhythmias', 'arrhythmiawithin', 'arriba', 'arrival', 'arrivals', 'arrive', 'arrived', 'arrives', 'arriving', 'arrogant', 'arroyo', 'arrs', 'arsenal', 'arsenic', 'arshad', 'arswer', 'art', 'arter', 'arterial', 'arteries', 'arteriosclerosis', 'arteriosclerotic', 'artery', 'arterydisease', 'artesia', 'arthitis', 'arthralgia', 'arthralgias', 'arthri', 'arthrit', 'arthritic', 'arthritis', 'arthrito', 'arthritus', 'arthrogram', 'arthrograms', 'arthropod', 'arthroscopic', 'arthrotec', 'arthrtis', 'arthur', 'articaine', 'articipant', 'articipants', 'articipation', 'article', 'articles', 'articulación', 'articulate', 'articulated', 'articulation', 'artificial', 'artificialheartva', 'artificially', 'artificialsweetener', 'artistic', 'artiﬁcial', 'artrialfibrillation', 'arts', 'artwork', 'arty', 'ary', 'as', 'asa', 'asacol', 'asacourtesyto', 'asafe', 'asaform', 'asaformofconsent', 'asahealthcareprovideryouandyourorganizationstrivetoprovidequalitypatientcareandtreatment', 'asample', 'asan', 'asap', 'asapatient', 'asarequirement', 'asasessing', 'asasubject', 'asauthorized', 'asbestos', 'asbestosis', 'asbrochures', 'asca', 'ascending', 'ascertain', 'ascertainable', 'ascertained', 'ascertaining', 'asciated', 'ascites', 'ascitic', 'asclosure', 'asco', 'ascontact', 'ascvd', 'asd', 'asddre', 'asdfitnesscenter', 'asdrrets', 'ase', 'asecond', 'aseguranza', 'asegurar', 'asendin', 'asenior', 'aseptic', 'asevidencein', 'asexual', 'asform', 'ash', 'asha', 'ashamed', 'ashcroft', 'asheville', 'ashfiled', 'ashkan', 'ashkenazi', 'ashtabula', 'ashtma', 'ashville', 'asia', 'asian', 'aside', 'asidonotanswerthephonewheniaminwithapatient', 'asignar', 'asignature', 'asindicated', 'asinquest', 'asirntoiectngreifspeslfhcedeofsnedteiparenmnentls', 'asistentes', 'asitis', 'asiático', 'ask', 'askalabama', 'asked', 'askedtoreleaseor', 'asking', 'askirb', 'askquestions', 'asks', 'askthecaller', 'asleep', 'aslo', 'aslongasmyconfidentialityisinsured', 'asma', 'asmall', 'asneeded', 'aso', 'asociados', 'asongoing', 'asopposedto', 'asottcaiianl', 'asp', 'aspatiente', 'aspc', 'aspe', 'aspecificdateisrequired', 'aspect', 'aspects', 'aspen', 'asperger', 'aspirate', 'aspiration', 'aspirational', 'aspire', 'aspired', 'aspirin', 'asponrsernlycoevdral', 'asppb', 'aspsansment', 'aspx', 'asrecreational', 'ass', 'assadou', 'assage', 'assault', 'assaults', 'assema', 'assembling', 'assembly', 'assen', 'assent', 'assenting', 'assents', 'assert', 'asserted', 'asserting', 'assertion', 'assertions', 'assertive', 'asserts', 'asses470nt', 'assesasment', 'assesed', 'assess', 'assessed', 'assesses', 'assessing', 'assessm', 'assessment', 'assessmentc', 'assessments', 'assessor', 'asset', 'assetroot', 'assets', 'assiessing', 'assign', 'assigned', 'assignee', 'assignees', 'assigning', 'assignment', 'assignments', 'assigns', 'assist', 'assistan', 'assistance', 'assistant', 'assistants', 'assisted', 'assisting', 'assistingpotential', 'assistive', 'assists', 'assistyou', 'asso', 'assoccatessofauugussa', 'associ', 'associa', 'associaation', 'associate', 'associated', 'associatedortho', 'associates', 'associating', 'associatioan', 'association', 'associationof', 'associations', 'assortment', 'asspecified', 'assuage', 'assult', 'assume', 'assumed', 'assumes', 'assuming', 'assumption', 'assumptions', 'assupport', 'assur', 'assurance', 'assurances', 'assure', 'assured', 'assures', 'assurescientificmerit', 'assuresthem', 'assuring', 'assutm', 'ast', 'asterisk', 'asthe', 'asthm', 'asthma', 'asthmatic', 'asthmatics', 'asthmyaothyroid', 'asthoroughas', 'asthuefoloweicgofrc', 'astigmatism', 'astm', 'astringent', 'astro', 'astronomy', 'astudy', 'asu', 'asubstitute', 'asula', 'asunto', 'asuntos', 'aswell', 'aswellas', 'aswellasanyother', 'aswithotheraspectsofthementor', 'asyes', 'asymmetric', 'asymmetrical', 'asymmetry', 'asymptomatic', 'asyouunderstanditto', 'así', 'at', 'at3024', 'at4000', 'ata', 'atalaya', 'atalways', 'atany', 'atanytimewithoutanyconsequences', 'atarax', 'ataxia', 'atc', 'ate', 'atea', 'ated', 'ategory', 'ately', 'atement', 'atención', 'ateness', 'atenolol', 'atepatientc', 'ater', 'ates', 'atestiguan', 'ath', 'athat', 'athe', 'atheist', 'atheistic', 'athens', 'atheory', 'ather', 'athernative', 'atherosclerosis', 'atherosclerotic', 'athese', 'athey', 'athink', 'athl', 'athle', 'athlete', 'athletes', 'athletesmedicalform', 'athletic', 'athletici', 'athleticp', 'athletics', 'athleticsties', 'athletictraining', 'athose', 'athttp', 'atient', 'atientfy', 'ation', 'ational', 'atistics', 'ativan', 'ative', 'atives', 'atkinson', 'atlanta', 'atlantic', 'atlantichealth', 'atlanto', 'atlantoaxial', 'atlas', 'atleastmake', 'atment', 'atmosphere', 'atmospheric', 'ato', 'atomoxetine', 'atoms', 'atopic', 'atorvastatin', 'atory', 'atranslatormust', 'atreatment', 'atrial', 'atripla', 'atrist', 'atrophic', 'atrophy', 'atrulyvoluntaryandinformed', 'atrust', 'ats', 'atsa', 'att', 'attach', 'attached', 'attaches', 'attaching', 'attachment', 'attachments', 'attack', 'attacking', 'attacks', 'attain', 'attained', 'attainment', 'atteched', 'attempt', 'attempted', 'attemptedsuicide', 'attempting', 'attemptletter', 'attempts', 'attempttorecognize', 'attend', 'attendaing', 'attendance', 'attendances', 'attendant', 'attendantstudy', 'attended', 'attendees', 'attending', 'attendingargyle', 'attendingphysicians', 'attends', 'attentiip', 'attentio', 'attention', 'attentionto', 'attentiow', 'attentive', 'attenuated', 'attest', 'attestation', 'attested', 'attesting', 'attests', 'atthe', 'attheacupuncture', 'atthefacilitywheresurgerywilloccur', 'attheinitialsigningofpaperwork', 'attherequestoftheindividuali', 'atthetimeofmylabor', 'atti', 'attime', 'attitude', 'attitudes', 'attleboro', 'attn', 'attorne', 'attornehipaa', 'attorney', 'attorneys', 'attorntey', 'attract', 'attracted', 'attributable', 'attribute', 'attributes', 'attribution', 'atttnn', 'ature', 'atusc', 'atv', 'atvs', 'atyour', 'atyourscheduledappointmenttime', 'atyourservice', 'atypical', 'au', 'aua', 'auburn', 'aucofny', 'audays', 'audi', 'audible', 'audicolnsults', 'audiences', 'audio', 'audiological', 'audiologist', 'audiologists', 'audiology', 'audiometer', 'audiometric', 'audiometry', 'audiotape', 'audiotaped', 'audiotapes', 'audiovisual', 'audiovisuals', 'audit', 'auditing', 'auditor', 'auditors', 'auditory', 'audits', 'audtootdeurrnseor', 'audubon', 'auerswald', 'aug', 'augmentation', 'augmentative', 'augmenting', 'august', 'augustin', 'augustine', 'auis', 'auname', 'aunq', 'aunque', 'aunt', 'auntmarthas', 'aunts', 'auof', 'aura', 'aural', 'aureuss', 'auricular', 'aurora', 'auscultation', 'ause', 'auspices', 'austin', 'austingastro', 'austintherepe', 'australasian', 'australia', 'australian', 'austroads', 'aut', 'auth', 'authenticated', 'authenticity', 'authform', 'authmorization', 'autho', 'author', 'authored', 'authoreizedsentative', 'authori', 'authoring', 'authorisation', 'authorisations', 'authorise', 'authorisea', 'authorised', 'authorising', 'authorit', 'authoritarian', 'authoritative', 'authoritay', 'authorities', 'authorito', 'authority', 'authoritygiven', 'authoritytotreat', 'authoriz', 'authoriza', 'authorizati', 'authorization', 'authorizationand', 'authorizationby', 'authorizationfor', 'authorizationimustdosoinwriting', 'authorizationis', 'authorizations', 'authorizationto', 'authorizationtorelease', 'authorizationtoreleaseprotectedhealth', 'authorizationtoreleaseprotectedhealthinformation', 'authorizationwill', 'authorizationwillexpire', 'authorizaɵon', 'authorize', 'authorizeany', 'authorized', 'authorizeda', 'authorizedprescribers', 'authorizedto', 'authorizegsd', 'authorizes', 'authorizethe', 'authorizin', 'authorizing', 'authors', 'authorship', 'authreldentalrecords', 'authroized', 'autis', 'autism', 'auto', 'autogenous', 'autoiisrder', 'autoimmune', 'autoinjector', 'autologous', 'autolysis', 'automate', 'automated', 'automates', 'automatic', 'automatically', 'automaticdialing', 'automation', 'automobile', 'autonomous', 'autonomously', 'autonomy', 'autonomyimpliesthatresponsibility', 'autopac', 'autopsy', 'autoriza', 'autorizacion', 'autorización', 'autorizadas', 'autorizado', 'autorizados', 'autorizar', 'autorizo', 'autthorization', 'autthorrizattion', 'auugussa', 'auxiliaries', 'auxiliary', 'av', 'av1', 'av19', 'av1n04', 'avail', 'availa', 'availab', 'availabile', 'availability', 'availabl', 'available', 'availableat', 'availableto', 'availabletothesubject', 'avalid', 'avaluable', 'avanti', 'avarious', 'avascular', 'avastias', 'avastidid', 'avastin', 'avastinm', 'avastintm', 'avastintmworks', 'ave', 'avella', 'avena', 'avenamedical', 'avenue', 'avenueappi', 'avenues', 'averafrom', 'average', 'averagebiobankboard', 'averaged', 'averagedailyfoodintake', 'aversion', 'aversions', 'aversive', 'avert', 'avery', 'avf', 'avg', 'aviation', 'avid', 'avier', 'avignettes', 'aving', 'aviso', 'avocado', 'avoid', 'avoidable', 'avoidance', 'avoided', 'avoiding', 'avoids', 'avoluntary', 'avon', 'avonfoundation', 'avr', 'avs', 'aw', 'await', 'awaiting', 'awaiver', 'awaiverofdocumentation', 'awake', 'awaken', 'awakening', 'awakenings', 'awakens', 'awar', 'award', 'awarded', 'awardee', 'awards', 'aware', 'awareness', 'awareofthissothattreatmentscanbeadjustedtoenhanceyourtherapy', 'awarethat', 'away', 'awe', 'awell', 'awful', 'awhichgenerally', 'awhonn', 'awitness', 'awkward', 'awkwardly', 'awningliyllfully', 'awol', 'awppw', 'awrbt8tb3avucqua3bpxnyoa', 'awritten', 'awt', 'awu', 'ax', 'ax9', 'axial', 'aximum', 'axis', 'ay', 'ayco', 'ayes', 'ayesysinoan', 'ayments', 'ayou', 'ayrbeoofbeur', 'ays', 'ayurvedic', 'az', 'azole', 'azsos', 'año', 'años', 'aﬀect', 'aﬀects', 'aﬀorded', 'b1', 'b111', 'b12', 'b128', 'b2', 'b3', 'b3j', 'b402', 'b420', 'b6', 'b704ev', 'b9ru1nsroiakd', 'ba', 'babble', 'babies', 'babonis', 'baby', 'babydiesinmother', 'babydoesnotbreathimmediatelyafterbirthandrequiresresuscitation', 'babyhasbowelmovementinsideuterus', 'babyisbornpriorto37orafter42weeks', 'babyisinsomepositionotherthanthenormalhead', 'babyistoolargetofitthroughmother', 'babylon', 'babysitter', 'baccalaureate', 'bacharach', 'bachelor', 'bachrach', 'back', 'backache', 'backaches', 'backfire', 'backgroud', 'backgroun', 'background', 'backgrounder', 'backgroundinformation', 'backgroundinformationfield', 'backgrounds', 'backhoe', 'backing', 'backo', 'backpacking', 'backs', 'backside', 'backup', 'backups', 'backwards', 'baclofen', 'bacon', 'bacteremia', 'bacteria', 'bacterial', 'bacteriolog', 'bacteriological', 'bad', 'badbreath', 'badge', 'badger', 'badly', 'bae', 'baexr', 'bag', 'bagel', 'baggage', 'baggy', 'bags', 'bailey', 'baileyfamilychiropractic', 'baioethics', 'baji', 'bajo', 'baker', 'bakino', 'bal', 'balaa', 'balance', 'balancechiropracticvt', 'balanced', 'balances', 'balancing', 'balch', 'bald', 'baldness', 'baldonado', 'baldwin', 'balicki', 'balint', 'ball', 'balloons', 'ballot', 'ballpoint', 'balmain', 'baltimore', 'ban', 'bancroft', 'band', 'bandage', 'bandages', 'bandaid', 'bandana', 'banded', 'banding', 'bands', 'bang', 'banik', 'bank', 'banked', 'bankers', 'banking', 'bankingis', 'bankou', 'bankruptcy', 'banks', 'bantam', 'bantko', 'banzel', 'baptist', 'bar', 'barat', 'barbara', 'barbecue', 'barber', 'barbershops', 'barbeyrac', 'barbie', 'barbiturates', 'barbour', 'barclay', 'barcodes', 'bare', 'barely', 'bares', 'bargaining', 'bargains', 'bariatric', 'bariatrics', 'barium', 'barker', 'barley', 'barnett', 'baron', 'barotrauma', 'barr', 'barre', 'barred', 'barren', 'barrets', 'barrett', 'barrier', 'barriers', 'barring', 'barrington', 'barron', 'barry', 'barré', 'bars', 'barserv', 'barter', 'bartering', 'bartholome', 'barton', 'basaed', 'basal', 'basalcellcarcinoma', 'bascue', 'base', 'baseball', 'based', 'basedonthe', 'baseline', 'basement', 'bases', 'bashore', 'basic', 'basically', 'basicand', 'basicelementsforwritteninformedconsentdocuments', 'basics', 'basis', 'basisboard', 'basketball', 'basking', 'baso', 'bass', 'basson', 'basuco', 'bat', 'batch', 'bath', 'bathe', 'bathing', 'bathroom', 'baths', 'bathtub', 'baton', 'batra', 'battaglia', 'batter', 'battered', 'batteries', 'battery', 'batting', 'bauer', 'bauman', 'baxter', 'bay', 'bayer', 'bayerand', 'bayerin', 'bayerwill', 'baylor', 'bayridge', 'bayshore', 'bayview', 'bb', 'bbalicki', 'bbm', 'bboard', 'bc', 'bc211', 'bca', 'bcbs', 'bcbst', 'bccewh', 'bcdp', 'bcg', 'bclaws', 'bcp', 'bdehalf', 'bdieslrdseiron', 'be', 'be18years', 'be3administered', 'beach', 'beaches', 'beacon', 'beaconhealth', 'beaconwest', 'beadialogueofthestudy', 'beafraidto', 'beam', 'beans', 'bear', 'bearallcost', 'bearing', 'bears', 'beasked', 'beat', 'beating', 'beatriz', 'beats', 'beauchamp', 'beaufort', 'beaumont', 'beauregard', 'beautiful', 'beauty', 'beauvoir', 'beaver', 'beba', 'became', 'becau36', 'because', 'becausethere', 'bechtel', 'becker', 'beckman', 'beclearly', 'beclearlywritten', 'beclomethasone', 'becom', 'become', 'becomeas', 'becomenecessary', 'becomes', 'becoming', 'becomplete', 'becompleted', 'beconfidential', 'becontain', 'bed', 'bedarida', 'bedeemednecessary', 'bedford', 'bedisclosed', 'bedrest', 'beds', 'bedside', 'bedtime', 'bedwe', 'bedwetting', 'bee', 'beechmont', 'been', 'beenactively', 'beenansweredsatisfactorily', 'beenexplained', 'beenpartofthe', 'beenrecediscussed', 'beenreserved', 'beensearchedas', 'beep', 'beeper', 'beer', 'bees', 'beeswax', 'beets', 'beeuseddas', 'beexpected', 'befall', 'befollowed', 'befor', 'before', 'beforeanyherbal', 'beforehand', 'beforeorafteryourtreatment', 'beforethe', 'beforeyes', 'beforyes', 'befound', 'befriend', 'beg', 'bega', 'began', 'begen', 'begeneratedonofficialletterhead', 'begenetic', 'begets', 'begging', 'begin', 'beginner', 'beginning', 'beginnings', 'begins', 'begiven', 'begivenby', 'begivenenoughinformationtoprovide', 'begrudgingly', 'begun', 'behalf', 'behalfofanother', 'behave', 'behaved', 'behavi', 'behavio', 'behavior', 'behavioral', 'behavioralhealth', 'behavioralhealthservices', 'behavioralresearchor', 'behavioralstudies', 'behaviors', 'behaviorvaries', 'behaviour', 'behavioural', 'behaviours', 'behind', 'behiv', 'behtavior', 'bei', 'beif', 'beimmediate', 'beinag', 'beinformation', 'being', 'beingdisclosed', 'beingi', 'beings', 'beinvolved', 'bel', 'belcher', 'belching', 'belcourt', 'belfor', 'belief', 'beliefs', 'believable', 'believe', 'believed', 'believes', 'believing', 'belinda', 'belittle', 'bell', 'belle', 'bellegrove', 'bellevue', 'bellow', 'belly', 'belmont', 'belmonte', 'belong', 'belonged', 'belonging', 'belongings', 'belongs', 'belotero', 'below', 'belowcan', 'belowisa', 'belowisatemplateforaninformation', 'belowor', 'belt', 'bemadecleartothesubjectthatit', 'bempletebefore', 'bemusclesorenessorachinessaswellas', 'ben', 'benadryl', 'bench', 'benchmarking', 'benchmarks', 'bend', 'bending', 'bends', 'bene', 'beneath', 'benedetto', 'benef', 'benefi', 'beneficence', 'beneficent', 'beneficial', 'beneficially', 'beneficiaries', 'beneficiariesn', 'beneficiary', 'beneficios', 'benefiestof', 'benefit', 'benefiting', 'benefits', 'benefitscorrectional', 'benefitsfromacollaborativeeffort', 'benefitsfurther', 'benefitsoftheir', 'benefitsthatthe', 'benefitsto', 'benefitted', 'benefitting', 'benefitverification', 'benefiyes', 'beneftf', 'benenicirty', 'beneﬁcence', 'beneﬁcial', 'beneﬁt', 'beneﬁts', 'bengali', 'benicia', 'benign', 'benjamin', 'bennett', 'benson', 'bent', 'bentham', 'bentyl', 'benzodiazepine', 'benzodiazepines', 'beobtained', 'beobtainedforalltypesof', 'beobtainedwhen', 'beplaced', 'beprovided', 'ber', 'bera', 'berber', 'beread', 'bereavement', 'bereferredtoanoncologist', 'berelayedto', 'bereleased', 'beresuscitated', 'bergh', 'berkley', 'berks', 'berlin', 'berman', 'bermuda', 'bernard', 'bernardino', 'bernie', 'berries', 'bers', 'berscheid', 'bertie', 'besecureand', 'beset', 'beside', 'besides', 'besigned', 'besivance', 'beskow', 'besnefits', 'bespecific', 'best', 'bestof', 'bestored', 'bestow', 'besttreatmentplanfor', 'besuretodrinkplentyofwaterafteryourtreatment', 'besuretoidentifyyourselfasava', 'beta', 'betadine', 'betested', 'betf', 'beth', 'bethany', 'bethesda', 'bethetclite', 'bethlehem', 'bethlem', 'betrayed', 'better', 'bettercare', 'bettercelk', 'bettereye', 'betternlk', 'betterways', 'betw', 'betwee', 'between', 'beused', 'bevacizumab', 'beverage', 'beverages', 'beverly', 'beware', 'bewdineearisdbsitnawh', 'bewitnessedby', 'bewritten', 'beyer', 'beyond', 'beyou', 'beyt', 'bfcc0003', 'bform', 'bgibson', 'bh265', 'bh7n', 'bh7n726', 'bhershbe', 'bhopal', 'bhvet', 'bi', 'bia', 'bias', 'biased', 'biases', 'biaxin', 'bible', 'bibliography', 'bic', 'bickmore', 'bicycle', 'bicycling', 'bid', 'bidding', 'bieaies', 'bielamowicz', 'biener', 'bienes', 'biennially', 'bierman', 'bieseck', 'bifida', 'bifocals', 'bifurcate', 'big', 'bigelow', 'bigger', 'biggest', 'bigman', 'bike', 'biking', 'bilaspur', 'bilateral', 'bilaver', 'bile', 'biliary', 'bilingual', 'bilities', 'bility', 'bill', 'billable', 'billboard', 'billed', 'billiet', 'billing', 'billinghipaa', 'billinginformation', 'billingrecords', 'billinhipaa', 'billion', 'billistatement', 'billof', 'bills', 'billstanger', 'biloba', 'bimatoprost', 'bin', 'binary', 'bind', 'binder', 'binders', 'binding', 'binds', 'binge', 'binged', 'bingeing', 'binges', 'bingh', 'binging', 'binocular', 'binocularity', 'binocularly', 'bio', 'bioavailability', 'biobank', 'biobanking', 'biobankne', 'biobankoa', 'biobanks', 'biobonk', 'biochemical', 'biocompatible', 'bioelectric', 'bioenvironmental', 'bioequivalence', 'bioeth', 'bioethical', 'bioethicists', 'bioethics', 'biofeedback', 'biographical', 'biohazardous', 'bioidentical', 'biologic', 'biologica', 'biological', 'biologically', 'biologics', 'biology', 'biomarker', 'biomarkers', 'biomedical', 'biomedicine', 'biomet', 'biometric', 'biopharmaceutics', 'biopsied', 'biopsies', 'biopsy', 'biopsychosocial', 'biorepositories', 'biorepository', 'biores', 'biosafety', 'biosense', 'biospecimen', 'biospecimens', 'biotech', 'biotechnology', 'bioterrorism', 'bipap', 'bipolar', 'bir', 'bird', 'birds', 'birks', 'birt', 'birtdate', 'birth', 'birthandpostpartumcarewillbeprovidedbythemidwives', 'birthcenter', 'birthdate', 'birthdates', 'birthday', 'birthdays', 'birthdefects', 'birthing', 'birthmarks', 'birthof', 'birthplace', 'births', 'birthtrauma', 'birthweight', 'bisexual', 'bishai', 'bishop', 'bismol', 'bisphosphonate', 'bisphosphonates', 'bisphpsphonate', 'bisposphonate', 'bit', 'bite', 'bites', 'bitewing', 'bitewings', 'biting', 'bito', 'bits', 'bitter', 'biweekly', 'biy', 'biynitialingin', 'bizarre', 'bja', 'bject', 'bk', 'bkd110', 'bkd1172', 'bkd131', 'bkd139', 'bkd143', 'bkd156', 'bkd161', 'bkd173', 'bkd205', 'bkd234', 'bkd239', 'bkd246', 'bkd250', 'bkd252', 'bkd304', 'bkd306', 'bkd307', 'bkd336', 'bkd343', 'bkd359', 'bkd381', 'bkd410', 'bkd436', 'bkd500', 'bkd507', 'bkd515', 'bkd524', 'bkd526', 'bksyes', 'bl', 'bla', 'blac', 'black', 'blackburn', 'blacked', 'blacking', 'blackouts', 'blacksci', 'blackstools', 'blackwell', 'bladder', 'bladderstones', 'blade', 'blades', 'blair', 'blais', 'blake', 'blames', 'blanco', 'blank', 'blankareastoreflect', 'blanket', 'blankets', 'blanks', 'blasdell', 'blcolonial', 'bldg', 'ble', 'bleach', 'bleaching', 'bleed', 'bleeding', 'bleedings', 'bleedongdo', 'bleedorbruiseeasily', 'bleedproblems', 'bleeds', 'blemishes', 'blems', 'blenngncies', 'bleomycin', 'blhispanic', 'blievery', 'blind', 'blinded', 'blindess', 'blinding', 'blindly', 'blindness', 'blink', 'blinking', 'blister', 'blistering', 'blisters', 'blo', 'bloating', 'blochechek', 'block', 'blockage', 'blocked', 'blocker', 'blockers', 'blocking', 'blocks', 'blodisorders', 'blog', 'blond', 'blonde', 'bloo', 'blood', 'bloodborne', 'bloodclots', 'bloodd', 'bloodinurine', 'bloodlines', 'bloodp', 'bloodpressure', 'bloodshot', 'bloodstream', 'bloodstreamcausingbloodclotsinvitalorganssuchasthebrainandlungsandcanresultincardiacarrest', 'bloodwork', 'bloody', 'bloodystools', 'blooin', 'bloom', 'bloomfield', 'bloomington', 'bloomsburg', 'blotdransfusions', 'blotdst', 'blount', 'blow', 'blows', 'blstdylshemorrhoids', 'blue', 'blueberries', 'bluebonnet', 'bluecross', 'blueness', 'blues', 'blueshield', 'blueshieldca', 'bluntly', 'blur', 'blurred', 'blurredvision', 'blurriness', 'blurring', 'blurry', 'blurts', 'blvd', 'blydder', 'bm', 'bma', 'bmc', 'bmda', 'bme', 'bmg', 'bmi', 'bmlr', 'bmuscle', 'bmw', 'bn', 'bnefits', 'bnot', 'bo', 'boaard', 'board', 'boarded', 'boarding', 'boards', 'boat', 'boater', 'boating', 'bob', 'bode', 'bodied', 'bodies', 'bodily', 'bodilyheaviness', 'body', 'bodyafterbirth', 'bodywork', 'boeing', 'boes', 'bogen', 'bogers', 'bogod', 'bohrer', 'boils', 'boise', 'bokep', 'bolam', 'bold', 'bolded', 'bolitho', 'bollinger', 'bolsters', 'bolus', 'bon', 'bona', 'bonafide', 'bond', 'bonded', 'bondesson', 'bonding', 'bone', 'bonei', 'bones', 'bonheur', 'bonita', 'bonnie', 'bonniediamond', 'bontril', 'bonum', 'bonus', 'bonuses', 'bony', 'book', 'booked', 'booking', 'bookings', 'booklet', 'bookletprovidesanoverviewofinformed', 'booklets', 'bookman', 'bookmark', 'bookmarks', 'bookout', 'books', 'boomer', 'boost', 'booster', 'boosters', 'boosting', 'booth', 'booths', 'booty', 'bop', 'bora', 'boratory', 'border', 'borderline', 'borders', 'bored', 'borgers', 'boring', 'born', 'borne', 'borninthehospital', 'boro', 'boronia', 'borrow', 'borrowed', 'borrowing', 'boruch', 'bose', 'bosm', 'bosnian', 'bossy', 'boston', 'bot', 'botanical', 'botanicals', 'both', 'bothdocumentand', 'bother', 'bothered', 'bothering', 'bothers', 'bothersome', 'bothsafety', 'boththatxposedhey', 'bothverbally', 'botkin', 'botova', 'botox', 'bottle', 'bottled', 'bottles', 'bottom', 'botulinum', 'bought', 'boulardi', 'boulder', 'bouldering', 'boule', 'boulevard', 'boulianne', 'bound', 'boundaries', 'boundary', 'bounds', 'bourne', 'bout', 'bove', 'bowdoin', 'bowel', 'bowelmovements', 'bowels', 'bowen', 'bowl', 'bowling', 'box', 'boxes', 'boy', 'boyd', 'boynton', 'boys', 'boystownhospital', 'bp', 'bpac', 'bpennell', 'bpersonal', 'bph', 'bpl', 'bpm', 'bpobank', 'bpreviously', 'br', 'bra', 'braaksma', 'bracanalysis', 'brace', 'braces', 'brachioplasty', 'bracing', 'brack', 'bracket', 'bracketed', 'brackets', 'brad', 'bradburn', 'braden', 'bradley', 'bradleyblvd', 'bradstreet', 'bragg', 'braided', 'braille', 'brain', 'brains', 'brainstorming', 'branch', 'branches', 'branchof', 'brand', 'brandi', 'brandon', 'brands', 'brandsma', 'brandt', 'brantford', 'braunfels', 'bravewell', 'brazil', 'brazosport', 'brca', 'brea', 'breach', 'breached', 'breaches', 'bread', 'breads', 'breadth', 'break', 'breakage', 'breakdown', 'breakfast', 'breaking', 'breakouts', 'breaks', 'breakthrough', 'breaotsendometriosio', 'breasosmood', 'breast', 'breastfed', 'breastfeeding', 'breastfeedingyes', 'breastlumps', 'breasts', 'breath', 'breathalyzer', 'breathe', 'breathed', 'breathin', 'breathing', 'breathingforbabywithbagandmask', 'breathingnoyes', 'breathingy', 'breathlessness', 'breathnoes', 'breatho', 'breaths', 'breckenridge', 'breech', 'breed', 'brefseding', 'breif', 'breitsameter', 'brenden', 'brent', 'brentwoood', 'brest', 'brett', 'brewster', 'brian', 'brick', 'bridge', 'bridgeport', 'bridges', 'bridget', 'bridging', 'brief', 'briefcase', 'briefed', 'briefing', 'briefly', 'briefs', 'briggscorp', 'brigham', 'bright', 'brightfutures', 'brightoakspediatrics', 'brilinta', 'brillo', 'brim', 'bring', 'bringing', 'brings', 'brinton', 'briovarx', 'brisk', 'brisman', 'bristled', 'bristol', 'bristow', 'britain', 'britannica', 'british', 'britt', 'brittle', 'brmmc', 'brn', 'broad', 'broadcast', 'broadcasting', 'broadened', 'broadening', 'broader', 'broadly', 'broadway', 'broccoli', 'brochu', 'brochure', 'brochurefor', 'brochures', 'brody', 'broids', 'broke', 'broken', 'bromwich', 'bronchi', 'bronchial', 'bronchitis', 'bronchodilator', 'bronchospasm', 'bronchus', 'bronx', 'brook', 'brooke', 'brookhaven', 'brooklyn', 'brooks', 'brother', 'brothers', 'brought', 'brow', 'broward', 'brower', 'brown', 'browne', 'brownish', 'brownson', 'brows', 'browse', 'browser', 'browsing', 'bruccorvalliss', 'bruce', 'bruisability', 'bruise', 'bruised', 'bruises', 'bruisi', 'bruising', 'bruits', 'brunner', 'brunswick', 'brush', 'brushing', 'brussels', 'bruta', 'bruto', 'bruxing', 'bruxism', 'bryan', 'bs', 'bsa', 'bsb', 'bsc', 'bscpt', 'bscriber', 'bscservice', 'bse', 'bshoulrci', 'bsirthdate', 'bspharm', 'bstet', 'bswh', 'bt', 'bteen', 'bthe', 'btnrh', 'btog', 'bu', 'bubble', 'bubbles', 'buc', 'buccal', 'buchanan', 'bud', 'budesonide', 'budget', 'budgeting', 'budgets', 'buell', 'bueno', 'buettner', 'buffalo', 'buffer', 'bug', 'bugs', 'build', 'builders', 'buildi', 'building', 'buildingblockspediatricsnc', 'buildings', 'builds', 'buildup', 'buildyoursmile', 'built', 'bul', 'bulge', 'bulger', 'bulging', 'bulimia', 'bulk', 'bullet', 'bulleted', 'bulleti', 'bulletin', 'bulletins', 'bullets', 'bullhook', 'bullied', 'bully', 'bullying', 'bumps', 'bums', 'bunions', 'buntain', 'buprenorphin', 'buprenorphine', 'bupropion', 'burchard', 'burden', 'burdens', 'burdensome', 'bureau', 'burgstahler', 'burhansstipanov', 'burial', 'burke', 'burkesville', 'burmese', 'burn', 'burned', 'burner', 'burning', 'burninganus', 'burnley', 'burnout', 'burns', 'burnt', 'burnthillsvethosp', 'burping', 'burris', 'bursa', 'bursar', 'bursitis', 'bursts', 'burt', 'bus', 'bush', 'bushika', 'busi', 'business', 'businesses', 'businessthomson', 'busnes', 'busnovetsky', 'buspar', 'buspirone', 'busy', 'but', 'butare', 'buthorization', 'butlerdiditcatering', 'butnotlimitedto', 'butnotttmiied', 'butonly', 'butter', 'butterfly', 'buttermilk', 'butters', 'butterworths', 'buttock', 'buttocks', 'button', 'butts', 'butyou', 'buy', 'buyer', 'buyers', 'buying', 'buzz', 'buzzing', 'bv', 'bwh', 'bwss', 'bwww', 'bx', 'by', 'by42', 'bya', 'byactingasan', 'byada', 'byahealthcareprovider', 'byall', 'byan', 'byany', 'byathird', 'bye', 'byes', 'byfederal', 'byfederalhealthagencies', 'byfield', 'byhild', 'byhipaa', 'byinitialingin', 'byinredubreuil', 'byirband', 'bylaw', 'bylaws', 'bymy', 'byn', 'bynt', 'bypass', 'byperson', 'byphysician', 'byrd', 'byron', 'bysigning', 'bysigningthisform', 'bystanders', 'bystateor', 'bystudysponsor', 'bysubject', 'byt', 'bythe', 'bytheirb', 'bytheirbtoobtain', 'bythementorthat', 'bytheparticipant', 'bytherapist', 'bythetreatingveterinarian', 'bythewitnesstotheconsent', 'byva', 'byyou', 'c0', 'c1', 'c100', 'c107idered', 'c15625', 'c2', 'c3', 'c388', 'c4l', 'c601', 'c61', 'c79', 'c95', 'ca', 'caan', 'caannnott', 'caapacity', 'caardd', 'caare', 'caatment', 'cab', 'cabbage', 'cabeza', 'cabg', 'cabin', 'cabinet', 'cabinets', 'cable', 'cables', 'cac', 'cachexia', 'cad', 'cada', 'cadaveric', 'cadavers', 'cadieux', 'cadman', 'cadrive', 'caesar', 'caesarean', 'caesarian', 'cafeteria', 'caffeinated', 'caffeinatedbeveragesdo', 'caffeine', 'caffeineusedaily', 'caffiene', 'cafm', 'cage', 'cahealthwellness', 'cahildren', 'cai', 'cajun', 'cakes', 'cal', 'calamities', 'calan', 'calat', 'calcifications', 'calcified', 'calcitonin', 'calcium', 'calculate', 'calculated', 'calculates', 'calculating', 'calculation', 'calculations', 'calculus', 'caldwell', 'calenda', 'calendar', 'calendars', 'calendula', 'calf', 'calgary', 'calhoun', 'calibration', 'calificado', 'california', 'californialaw', 'californialawrequiresthattheconsent', 'californiarequiresproposed', 'calipers', 'calisthenics', 'call', 'callahan', 'calland', 'callbackif', 'calle', 'called', 'calledstreptococcus', 'caller', 'callers', 'calling', 'callisthenic', 'callobstetricianand', 'calls', 'callsave', 'callthe', 'callxofigoaccessservices', 'calm', 'calmarse', 'calmglow', 'calms', 'caloric', 'calorie', 'calpoly', 'calumet', 'calves', 'calvin', 'calvinist', 'cam', 'cama', 'camarillo', 'cambios', 'cambodian', 'cambridge', 'came', 'camelback', 'camera', 'cameron', 'camilla', 'camino', 'camp', 'campaign', 'campaigns', 'campbell', 'camper', 'camping', 'campion', 'campral', 'camps', 'campus', 'campuses', 'can', 'canada', 'canadaw', 'canadi', 'canadian', 'canadians', 'canal', 'canals', 'canalso', 'canalsoserveasagreat', 'canary', 'canavan', 'canaveral', 'canbe', 'canberevokedatanytimeexcepttotheextentthatdisclosuremadeingoodfaithhasalreadyoccurredinrelianceonthisauthorization', 'canberra', 'cancause', 'cancausebraindamageitisiftoohigh', 'cance', 'cancel', 'cancelar', 'cancelations', 'canceled', 'canceling', 'cancellation', 'cancellations', 'cancellationthis', 'cancelled', 'cancelling', 'cancer', 'cancergenome', 'cancerkansas', 'cancerlegalresourcecenter', 'cancerpatient', 'cancerpatientnavigation', 'cancers', 'cancersurvivaltoolbox', 'cancertype', 'canceryes', 'canceyeshivno', 'candace', 'candida', 'candidacy', 'candidate', 'candidates', 'candidiasis', 'candidly', 'candies', 'candor', 'candy', 'cane', 'canemployees', 'canfield', 'canine', 'canker', 'cankers', 'canlii', 'canmakeaninformed', 'cannab', 'cannabi', 'cannabis', 'cannabisi', 'cannibis', 'cannot', 'cannotexceed', 'cannula', 'cannulae', 'canoccasionally', 'canoeing', 'canola', 'cans', 'cant', 'cantaloupe', 'canterbury', 'canvassed', 'canyes', 'canyon', 'canyougive', 'caoinaegsaecagle', 'caonsent', 'cap', 'capaacity', 'capabale', 'capabialities', 'capabilaity', 'capabilities', 'capabilitiy', 'capability', 'capable', 'capableof', 'capably', 'capaciaty', 'capacitay', 'capacities', 'capacity', 'capacitya', 'capacitys', 'capacsity', 'capd', 'cape', 'capi', 'capillaries', 'capillary', 'capita', 'capital', 'capitalized', 'capitals', 'capitol', 'caps', 'capsu', 'capsular', 'capsule', 'capsulectomy', 'capsulitis', 'capsulotomy', 'captain', 'caption', 'captioned', 'capture', 'captured', 'capturing', 'capuchino', 'caqh', 'car', 'cara', 'características', 'carae', 'carb', 'carbamazepine', 'carbatrol', 'carbohydrao', 'carbohydrate', 'carbohydrateo', 'carbohydrates', 'carbon', 'carbonate', 'carbonated', 'carbs', 'carbuncles', 'carcinogens', 'carcinoma', 'card', 'carde', 'cardholder', 'cardiac', 'cardierpreprepressyptomatic', 'cardinal', 'cardinale', 'cardio', 'cardiocarellc', 'cardiogram', 'cardiologist', 'cardiologists', 'cardiology', 'cardiomyopathy', 'cardiopulmonary', 'cardiorespiratory', 'cardiovasc', 'cardiovascular', 'cardiovasular', 'cardioverter', 'cardizem', 'cardone', 'cards', 'cardstock', 'cardíacas', 'care', 'careatharlemhospitalin', 'cared', 'careeporisboefhethe', 'career', 'careers', 'careful', 'carefully', 'carefullyreading', 'caregaivers', 'caregiv', 'caregivear', 'caregiver', 'caregivers', 'caregivers541', 'careinequities', 'careless', 'carelessness', 'carell', 'caremark', 'carenow', 'careof', 'careplan', 'careprofessional', 'careprovider', 'careproviderstorestrictaccesstoordisclosureofmyindividuallyidentifiable', 'carer', 'carers', 'cares', 'caretaker', 'caretakers', 'careteam', 'carewillbemanagedbytheobstetricalconsultants', 'careworkgroup', 'carey', 'careyesring', 'carf', 'caribbean', 'caries', 'caring', 'carious', 'carisoprodol', 'carl', 'carley', 'carlin', 'carmedicalrecord', 'carmen', 'carmries', 'carneades', 'carofedacal', 'carol', 'carolina', 'carolinas', 'carolinashealthcare', 'carolinaspaininstitute', 'carolini', 'carolyn', 'carolynn', 'caross', 'carotid', 'carpal', 'carpentersville', 'carpet', 'carpeting', 'carpets', 'carr', 'carri', 'carriage', 'carrie', 'carriecarrier', 'carried', 'carrier', 'carriers', 'carries', 'carrivacyations', 'carroll', 'carrots', 'carrwith', 'carry', 'carrying', 'carryingtheform', 'carryout', 'carryover', 'carseat', 'carson', 'carswell', 'carter', 'cartilage', 'carton', 'cartridge', 'carts', 'cartwright', 'carwe', 'cary', 'casa', 'casada', 'casas', 'case', 'casebook', 'casedult', 'caseload', 'casemix', 'cases', 'caseworker', 'caseworkers', 'casey', 'casguideager', 'cash', 'cashed', 'cashiers', 'casi', 'casien', 'caso', 'casos', 'casper', 'casre', 'casselberry', 'cassell', 'cast', 'castilian', 'castlereagh', 'casts', 'casual', 'casualty', 'cat', 'catalog', 'catalyst', 'cataract', 'cataracts', 'catastrophic', 'catch', 'catching', 'cate', 'cated', 'catego', 'categorical', 'categories', 'categorized', 'category', 'categorya', 'catgeory', 'cath', 'catherine', 'catheter', 'catheterisation', 'catheterizatio', 'catheterization', 'catheterizations', 'catheterizationsy', 'catheters', 'catholic', 'catholicism', 'cati', 'cations', 'cats', 'cau', 'caucasian', 'caught', 'caulfield', 'cauoeauto', 'caus', 'causal', 'causas', 'causation', 'causative', 'cause', 'caused', 'causedyou', 'causes', 'causesyesds', 'causeway', 'causin17only', 'causing', 'cauterization', 'cautery', 'caution', 'cautions', 'cautious', 'cautley', 'cavc', 'cave', 'caveat', 'caverna', 'cavill', 'caving', 'cavitating', 'cavitation', 'cavities', 'cavity', 'caﬀeinated', 'cb', 'cbc', 'cbd', 'cbocs', 'cbr', 'cbt', 'cc', 'ccboard', 'ccc', 'cccclient', 'ccconsent', 'ccd', 'ccessful', 'ccf', 'ccident', 'ccidento', 'ccidentoccurred', 'ccip', 'ccoomppeenssation', 'ccordance', 'ccount', 'ccpa', 'ccr', 'ccrc', 'ccrd', 'ccsm', 'ccts', 'ccupation', 'ccurred', 'ccv', 'cd', 'cd4', 'cda', 'cdas', 'cdc', 'cdcplus', 'cdcr', 'cdd', 'cder', 'cdl', 'cdr', 'cds', 'cdsco', 'cduarteandassociates', 'ce', 'cease', 'ceasing', 'cebackground', 'ceci', 'cecille', 'cedar', 'cedure', 'cedures', 'ceiv', 'ceived', 'ceiving', 'cel', 'celebration', 'celebrex', 'celecoxib', 'celexa', 'celiac', 'celiacdisease', 'cell', 'cellcarcinoma', 'celll', 'cellphone', 'cells', 'cellular', 'cellularity', 'cellulaze', 'cellulite', 'cellulitis', 'celular', 'cement', 'cen', 'cenjohn', 'cenpatico', 'censed', 'census', 'cent', 'cente', 'centennial', 'center', 'centered', 'centers', 'centerscottsville', 'centersformedicareandmedicaidservices', 'centerwatch', 'centerʼs', 'centimeters', 'central', 'centralia', 'centralized', 'centre', 'centred', 'centres', 'centricity', 'centro', 'cents', 'centuries', 'century', 'ceo', 'ceonallts', 'cep', 'cephalopelvicdisproportion', 'cept', 'cer', 'cerebral', 'cerebralpalsy', 'cerebro', 'cerebrospinal', 'cerebrovascular', 'ceremonies', 'ceremony', 'cerfrom', 'cerhan', 'cerned', 'cerner', 'cerns', 'cert', 'certain', 'certainly', 'certaintalways', 'certainty', 'certi', 'certif', 'certific', 'certifica', 'certificate', 'certificateofconfidentiality', 'certificates', 'certification', 'certifications', 'certificatn', 'certified', 'certifies', 'certify', 'certifying', 'certiﬁcate', 'cerumen', 'cerumenosis', 'cervical', 'cervicitis', 'cervix', 'cervone', 'ces', 'cesarean', 'cesareans', 'cesarian', 'cessary', 'cessation', 'cessful', 'cessfully', 'cet', 'ceu', 'cf', 'cfm', 'cfr', 'cfr46', 'cfr483', 'cfrhibit', 'cfs', 'cgi', 'cgirb', 'cgm', 'cgs', 'ch', 'ch10f', 'ch5apgetiielilnes', 'ch6aptqraaiuranidelines', 'ch8aptetsiuels', 'ch9aptisuels', 'cha', 'chaboki', 'chacce', 'chadwick', 'chafed', 'chaform', 'chain', 'chaining', 'chains', 'chair', 'chaired', 'chairman', 'chairperson', 'chairs', 'challenactivity', 'challenge', 'challenged', 'challenges', 'challenging', 'chalwaysr', 'chamber', 'chamberlin', 'chambers', 'chambersclinic', 'champaign', 'champion', 'championed', 'chan', 'chance', 'chances', 'chancre', 'chandler', 'chanduvi', 'chang', 'change', 'changed', 'changein', 'changeinhair', 'changes', 'changestothisnotice', 'changetogether', 'changing', 'changingmindsnow', 'channels', 'chaotic', 'chap', 'chapel', 'chaperone', 'chaperones', 'chaperoning', 'chapman', 'chapter', 'chapter13', 'chapters', 'character', 'characterist', 'characteristic', 'characteristics', 'characterize', 'characterized', 'characters', 'charecommends', 'charge', 'charged', 'chargeof', 'charger', 'charges', 'chargestotal', 'charging', 'charity', 'charles', 'charleston', 'charlie', 'charlotte', 'charlottesville', 'charltel', 'charron', 'chart', 'charte', 'charted', 'charter', 'chartered', 'chartges', 'charting', 'chartpink', 'chartreecodss', 'chartrequest', 'charts', 'chase', 'chaska', 'chasse', 'chat', 'chatel', 'chattanooga', 'chatteringyese', 'chatting', 'chattopadhyay', 'chaudhuri', 'chb', 'chc', 'chcs', 'cheat', 'chec', 'checaklist', 'check', 'check3', 'checka', 'checkall', 'checkanyofthefollowingconditionsyoucurrentlyhaveorhavehadinthepast', 'checkbox', 'checkboxe', 'checked', 'checkedeither', 'checkif', 'checking', 'checklist', 'checklists', 'checkmark', 'checkmarknext', 'checkon', 'checkonlyonebox', 'checks', 'checkup', 'checkups', 'checkwith', 'checkyes', 'cheeckssonnlyy', 'cheek', 'cheeks', 'cheektowaga', 'cheer', 'cheerleading', 'cheese', 'chehalis', 'chelated', 'chemical', 'chemically', 'chemicals', 'chemistry', 'chemo', 'chemotheraputic', 'chemotherapy', 'chen', 'cheque', 'cheques', 'cherries', 'cherry', 'cherylwarnke', 'ches', 'cheshire', 'chest', 'chester', 'chestnut', 'chestpain', 'chet', 'cheuniversityntake', 'chevy', 'chew', 'chewing', 'chews', 'chewy', 'chf', 'chha', 'chi', 'chica', 'chicago', 'chichester', 'chicken', 'chickenpox', 'chico', 'chief', 'chiefly', 'chiefs', 'chiefwatchu', 'chiemergency', 'chien', 'chiib', 'chil', 'child', 'child1', 'childbearing', 'childbearingage', 'childbirth', 'childbirthisoneoflife', 'childcare', 'childhood', 'childlike', 'childprotected', 'childprotection', 'children', 'childress', 'childress2', 'childʼs', 'chilled', 'chills', 'chimica', 'chin', 'china', 'chinese', 'ching', 'chino', 'chip', 'chipping', 'chips', 'chir', 'chiro', 'chirohealth', 'chiropracti', 'chiropractic', 'chiropracticadjustmentsand', 'chiropracticor', 'chiropractor', 'chiropractors', 'chirospring', 'chla', 'chlamydia', 'chloramphenicol', 'chloride', 'chlorine', 'cho', 'chocolate', 'choi', 'choice', 'choices', 'choking', 'chol', 'cholangiopancreatography', 'cholecystectomy', 'cholecystectomye', 'cholecystostomy', 'cholehsierol', 'cholelithiasis', 'cholestero', 'cholesterol', 'cholesterolemia', 'cholestid', 'chological', 'chologists', 'chony', 'choose', 'choosers', 'chooses', 'chooseto', 'choosing', 'choosingraffi', 'chops', 'chopt', 'choquette', 'chorea', 'choreographed', 'chores', 'chorionic', 'chose', 'chosen', 'chosocial', 'chotherapy', 'chr', 'chrages', 'chris', 'christ', 'christensen', 'christian', 'christiane', 'christina', 'christine', 'christman', 'christopher', 'chrohns', 'chrohnʼs', 'chromium', 'chromosoma', 'chromosomal', 'chromosome', 'chron', 'chronic', 'chronically', 'chronicconditions', 'chroniccough', 'chronicheadaches', 'chronicity', 'chronicle', 'chronological', 'chs', 'chtel', 'chu', 'chuck', 'church', 'churches', 'chusetts', 'cial', 'cialty', 'cian', 'cians', 'ciated', 'cic', 'cicad', 'cicero', 'cichon', 'cient', 'ciently', 'ciertos', 'cific', 'cigar', 'cigarette', 'cigarettes', 'cigarettessdiuordrnes', 'cigars', 'cigna', 'cihr', 'cihurch', 'ciil', 'cilostazol', 'cimetidine', 'cincinnati', 'cine', 'cines', 'cinesamples', 'cinformation', 'cingi', 'cion', 'cip', 'cipate', 'cipated', 'cipientmay', 'ciples', 'cipro', 'cir', 'circ', 'circgenetics', 'circl', 'circle', 'circlea', 'circled', 'circleft', 'circles', 'circleself', 'circleyese', 'circling', 'circlingyes', 'circly', 'circuit', 'circuits', 'circula', 'circular', 'circulars', 'circulate', 'circulated', 'circulation', 'circulatory', 'circum', 'circumcised', 'circumcisions', 'circumference', 'circums', 'circumscribed', 'circumstan', 'circumstanc', 'circumstance', 'circumstanceas', 'circumstances', 'circumstancesin', 'circumstancesinwhichthenurse', 'circumstanceswhen', 'circumstanceswhereasignaturecould', 'circumstantial', 'circunstancia', 'circunstancias', 'cirle', 'cirp', 'cirrhosis', 'cirtcle', 'cirugía', 'cirugíao', 'cirujanosylaspersonasqueasistenconelfindeprestarserviciosmédicosespecializados', 'cise', 'cisgender', 'cisn', 'cit', 'citalopram', 'citations', 'cited', 'cites', 'citfeel', 'citi', 'cities', 'citing', 'citiprogram', 'citizen', 'citizenry', 'citizens', 'citizenship', 'citrin', 'citro', 'citrucel', 'citrus', 'cits', 'citscadeep', 'city', 'citysearch', 'citzisptate', 'ciudad', 'ciuha', 'civ', 'cive', 'civic', 'civil', 'civilian', 'civilised', 'civilized', 'civilly', 'cj', 'cjcc', 'ckhfn', 'ckle', 'ckovach', 'cl', 'cl707', 'cla', 'clack', 'clai', 'claient', 'claim', 'claiman', 'claimant', 'claimants', 'claimed', 'claimfor', 'claiming', 'claims', 'claimsinformation', 'clair', 'claire', 'claiveipprofnssiccelssful', 'clammy', 'clamp', 'clamped', 'clancy', 'claoim', 'claperson', 'clappison', 'clara', 'claramente', 'claration', 'clarendon', 'clarification', 'clarifications', 'clarified', 'clarifies', 'clarify', 'clarifyearinghouses', 'clarifying', 'clariincation', 'claritin', 'clarity', 'clariﬁcation', 'clark', 'clary', 'class', 'classed', 'classes', 'classic', 'classical', 'classics', 'classification', 'classified', 'classifies', 'classify', 'classifying', 'classmate', 'classroom', 'classrooms', 'claudia', 'claudication', 'clause', 'clauses', 'claustro', 'claustrophobia', 'claustrophobic', 'clay', 'claybrook', 'clayman', 'clayton', 'cle', 'clean', 'cleaned', 'cleaning', 'cleanings', 'cleanor', 'cleanse', 'cleansed', 'cleanser', 'cleansing', 'cleansings', 'clear', 'clearance', 'cleared', 'clearer', 'clearing', 'clearinghouse', 'clearinghouses', 'clearly', 'clearlystated', 'clears', 'clearview', 'clearwater', 'cleft', 'clemson', 'clenching', 'cleocin', 'cleosis', 'clergy', 'clergyman', 'clerical', 'clerk', 'clerks', 'cles', 'cleveland', 'clibeckmanake', 'click', 'clickhere', 'clicking', 'clickon', 'clicks', 'clie', 'clien', 'client', 'clientele', 'clientfilesarekeptin', 'clienthistory', 'clientid', 'clients', 'clients4', 'clientservices', 'clientsignature', 'cliffs', 'clihictl', 'climara', 'climate', 'climb', 'climbing', 'climbs', 'clin', 'clin707', 'clindamycin', 'clined', 'cliniac', 'clinic', 'clinic707', 'clinical', 'clinically', 'clinicalnursespecialist', 'clinicaltreatments', 'clinicaltrials', 'clinicand', 'clinician', 'clinicians', 'cliniciansshould', 'clinicianswill', 'clinicization', 'clinics', 'clinicsumner', 'clior', 'clipboards', 'clips', 'clitoral', 'clitvienngtory', 'cllnm', 'clnoification', 'clo', 'clobazam', 'clock', 'clogged', 'clomipramine', 'clonazepam', 'clondirclepeeedveryt', 'clonic', 'clonidine', 'cloning', 'clopidogrel', 'clorazepate', 'close', 'closed', 'closel', 'closely', 'closer', 'closes', 'closest', 'closing', 'clostridia', 'closure', 'clot', 'cloth', 'clothed', 'clothes', 'clothing', 'clots', 'clotted', 'clotter', 'clotting', 'cloud', 'cloudiness', 'clouding', 'cloudy', 'clover', 'cloves', 'clozapine', 'clozaril', 'clr', 'club', 'clubbing', 'clubs', 'clude', 'cluded', 'cludes', 'cluding', 'clue', 'clues', 'clumsiness', 'clumsy', 'clusen', 'cluster', 'clustering', 'clyde', 'clínica', 'cm', 'cma', 'cmc', 'cmd', 'cme', 'cmia', 'cmnpreitietncrienaltettnrefueal', 'cmp', 'cmr', 'cms', 'cmsdua', 'cmt', 'cmv', 'cn', 'cnavigator', 'cndition', 'cne', 'cnliat', 'cnm', 'cnn', 'cnp', 'cnps', 'cnriopttei', 'cns', 'cnsnevada', 'co', 'co0735', 'co5100', 'coa', 'coach', 'coaches', 'coaching', 'coagulant', 'coagulants', 'coagulating', 'coagulation', 'coagulopathy', 'coalesce', 'coalition', 'coansent', 'coanvey', 'coarctation', 'coast', 'coastal', 'coastalcardiology', 'coat', 'coating', 'coats', 'coauld', 'coaxed', 'coaxing', 'cob', 'cobalamin', 'cobalt', 'cobb', 'cobertura', 'cobia', 'cobra', 'cobrará', 'coc', 'coca', 'cocaine', 'coccyx', 'cochlear', 'cochran', 'cockerhammd', 'cocktails', 'cocky', 'cocoa', 'coconut', 'cod', 'code', 'coded', 'codeine', 'codeofvirginia54', 'codes', 'codeset', 'codified', 'coding', 'cody', 'coenzyme', 'coerapy', 'coerce', 'coerced', 'coercion', 'coercive', 'coercively', 'coerciveness', 'coesrcion', 'coeur', 'cof', 'coffee', 'coffees', 'coform', 'cogent', 'cogentin', 'cogni', 'cognition', 'cognitive', 'cognitively', 'cognizant', 'cohabitating', 'cohabitation', 'cohabiting', 'cohen', 'coherence', 'cohort', 'cohorts', 'coil', 'coils', 'coin', 'coincidence', 'coincidental', 'coinsurance', 'coinsurances', 'cointake', 'coiunseling', 'col', 'cola', 'colaprete', 'colaris', 'colas', 'colburn', 'colchicine', 'cold', 'coldhandsorfeet', 'colditz', 'coldness', 'colds', 'cole', 'colectomy', 'colestipol', 'coli', 'colic', 'coliseum', 'colitis', 'coll', 'collaborate', 'collaborates', 'collaborating', 'collaboration', 'collaborative', 'collaboratively', 'collaborator', 'collaborators', 'collagen', 'collapse', 'collapsed', 'collapsing', 'collar', 'collards', 'collateral', 'collations', 'colleague', 'colleagues', 'collec', 'collect', 'collectd', 'collected', 'collectin', 'collecting', 'collection', 'collections', 'collective', 'collectively', 'collects', 'colleen', 'college', 'colleges', 'colliers', 'collins', 'collision', 'cologne', 'colon', 'colonial', 'colonies', 'colonosco', 'colonoscopdy', 'colonoscope', 'colonoscopy', 'colony', 'coloposcopy', 'color', 'colorado', 'coloradoent', 'colorectal', 'colored', 'colorless', 'colorofphlegm', 'colors', 'colostomy', 'colour', 'colours', 'colposcope', 'colposcopic', 'colposcopy', 'colpotomy', 'columbia', 'columbiadoctors', 'columbiadoctorstoreleasepertinent', 'columbiana', 'columbiathastside', 'columbus', 'column', 'columns', 'com', 'coma', 'comand', 'comateleted', 'comatose', 'combat', 'combat17', 'combative', 'combination', 'combine', 'combined', 'combinedregtext', 'combines', 'combining', 'combivir', 'comcast', 'come', 'comeabout', 'comedical', 'comes', 'comf', 'comfort', 'comfortable', 'comfortably', 'comfortandsatisfaction', 'comfortandsatisfactionforbothmotherandbaby', 'coming', 'comingfrom', 'comm', 'comma', 'command', 'commanding', 'commands', 'commaunication', 'commemorating', 'commence', 'commenced', 'commencement', 'commences', 'commencing', 'commensurate', 'comment', 'commentary', 'commentators', 'commented', 'comments', 'commerce', 'commercial', 'commercialization', 'commercially', 'commerical', 'commi2tee', 'commis', 'commiscarf', 'commission', 'commissioned', 'commissioner', 'commissioners', 'commissioning', 'commissions', 'commit', 'commitm', 'commitment', 'commitments', 'commits', 'committal', 'committed', 'committee', 'committees', 'committing', 'common', 'commonly', 'commonsense', 'commonsideeffects', 'commonwealth', 'commu', 'communaication', 'communicaation', 'communicable', 'communicad', 'communicate', 'communicated', 'communicatein', 'communicates', 'communicating', 'communicatingi', 'communicatingpts', 'communication', 'communicationofemailand', 'communications', 'communicationwith', 'communicative', 'communion', 'communitarian', 'communitie', 'communities', 'community', 'communitya', 'communitywide', 'como', 'comorbid', 'comorbidities', 'comp', 'compact', 'compadre', 'companies', 'companion', 'companions', 'company', 'companyif', 'companyname', 'companywhenthelawprovidesmy', 'comparable', 'comparabletothelanguagein', 'comparative', 'compare', 'compared', 'compares', 'comparing', 'comparison', 'comparisons', 'compartment', 'compassion', 'compassionate', 'compatibility', 'compatible', 'compazine', 'compd', 'compdate', 'compe', 'compel', 'compelled', 'compelling', 'compels', 'compen', 'compens', 'compensa', 'compensability', 'compensable', 'compensat', 'compensate', 'compensated', 'compensati', 'compensation', 'compensationprovisionsfor', 'compensations', 'compensationsectionfrom', 'compensation¾', 'compensatioo', 'compensatory', 'compet', 'compete', 'competence', 'competencies', 'competency', 'competent', 'competently', 'competenttomakethe', 'competing', 'competition', 'competitions', 'competitive', 'competitor', 'compilation', 'compile', 'compiled', 'compiles', 'compilestheanswer', 'compiling', 'compl', 'complain', 'complaince', 'complained', 'complaining', 'complaint', 'complaintor', 'complaints', 'comple', 'complement', 'complementary', 'complements', 'complenaethedspiace', 'complera', 'completar', 'complete', 'completeallsectionsandsignanddatetheform', 'completeclinics', 'completed', 'completedby', 'completedxofigoaccessservices', 'completeit', 'completely', 'completelyas', 'completemandatoryciti', 'completeness', 'completes', 'completesection', 'completet', 'completetheattachedform', 'completeuniversity', 'completing', 'completion', 'completions', 'completionwere', 'complettehe', 'complex', 'complexde', 'complexes', 'complexiaty', 'complexion', 'complexities', 'complexity', 'compli', 'complian', 'compliance', 'compliancere', 'compliant', 'complica', 'complicaciones', 'complicación', 'complicate', 'complicated', 'complicating', 'complicatioirhurgery', 'complication', 'complications', 'complicationsarerareandrequirehospitalmedicalmanagement', 'complicationsinvolvingthebaby', 'complicationsinvolvingthepelvis', 'complicationsinvolvingtheplacenta', 'complicationsmayarise', 'complicationsofpregnancyandbirth', 'complied', 'complies', 'compliment', 'compliments', 'complish', 'comply', 'complying', 'complywith', 'compo', 'component', 'components', 'compose', 'composed', 'composite', 'composites', 'composition', 'compound', 'compounds', 'comprehen', 'comprehend', 'comprehending', 'comprehends', 'comprehensible', 'comprehensio', 'comprehension', 'comprehensive', 'comprehensively', 'comprendo', 'compress', 'compression', 'comprise', 'comprised', 'comprises', 'compro', 'compromise', 'compromised', 'compromises', 'compromisetheparticipant', 'compromising', 'compruebe', 'compteition', 'compulsions', 'compulsive', 'compulsivity', 'compulsory', 'computation', 'computed', 'computer', 'computerized', 'computers', 'computing', 'comspreecicaiorder', 'comunes', 'comunicación', 'comunicarse', 'con', 'conalsontialitryeason', 'conasent', 'concealed', 'concealing', 'concealment', 'conceals', 'conceder', 'conceivable', 'conceive', 'conceived', 'conceiving', 'concenrs', 'concentrate', 'concentrated', 'concentrates', 'concentrating', 'concentration', 'concentrations', 'concentratioy', 'concentratong', 'concentric', 'concept', 'conception', 'conceptions', 'conceptof', 'concepts', 'conceptual', 'conceptually', 'concer', 'concern', 'concerned', 'concernin', 'concerning', 'concerningnyatarcial', 'concerningtheexperiment', 'concerns', 'concerta', 'concise', 'conciseconsent', 'conclude', 'concluded', 'concludes', 'concluding', 'conclusion', 'conclusions', 'conclusive', 'concomitant', 'concord', 'concur', 'concurrence', 'concurrent', 'concurrently', 'concurring', 'concusfion', 'concussion', 'concussions', 'cond', 'condemned', 'condensed', 'condi', 'condicio', 'condicionar', 'condiciones', 'condició', 'condición', 'condiitions', 'condiments', 'conditi', 'conditins', 'conditio', 'conditio32', 'conditiomonth', 'condition', 'conditional', 'conditionally', 'conditionbeing', 'conditioned', 'conditioning', 'conditions', 'conditionsand', 'conditionyes', 'condo', 'condom', 'condominium', 'condoms', 'condone', 'conduced', 'conducive', 'conduct', 'conducted', 'conducting', 'conduction', 'conductive', 'conductnhetrpnoreflsprtientkisetaersktppoa', 'conducts', 'condyle', 'cone', 'coney', 'confer', 'conference', 'conferences', 'confi', 'conficentiality', 'confid', 'confiden', 'confidence', 'confidences', 'confidencial', 'confidencialidad', 'confident', 'confidental', 'confidenti', 'confidential', 'confidentiali', 'confidentialiity', 'confidentialinformationthatisnot', 'confidentialit', 'confidentiality', 'confidentialityas', 'confidentialityof', 'confidentialityrule', 'confidentialitystatement', 'confidentially', 'confidentialquestionnaireto', 'confidenttollawillness', 'configured', 'confine', 'confined', 'confinement', 'confines', 'confirm', 'confirmation', 'confirmatory', 'confirmed', 'confirming', 'confirms', 'conflict', 'conflicting', 'conflicts', 'conform', 'conformation', 'conformed', 'conforming', 'conformity', 'conforms', 'confront', 'confrontation', 'confronted', 'confu', 'confuse', 'confused', 'confusing', 'confusion', 'congenital', 'congenitalanomalies', 'congested', 'congestion', 'congestions', 'congestive', 'congregation', 'congress', 'congruence', 'congruency', 'congruent', 'conitacted', 'conjugated', 'conjunction', 'conjunctivitis', 'conlleva', 'conllevan', 'conls', 'conn', 'conne', 'connecation', 'connect', 'connected', 'connecti', 'connecticut', 'connecting', 'connection', 'connections', 'connective', 'connectivity', 'connector', 'connects', 'connexus', 'connie', 'connolly', 'connor', 'connotations', 'connsenttorm', 'conntacte', 'conocer', 'conocidas', 'conocimiento', 'conpsernorfrimgpantienfthefoeractions', 'conquer', 'conrad', 'conron', 'cons', 'cons614', 'consaent', 'consanguinity', 'conscience', 'conscientious', 'conscientiously', 'conscientiousness', 'conscious', 'consciously', 'consciousness', 'consconsultation', 'conse', 'consecutive', 'consecutively', 'consen', 'consenat', 'consenst', 'consensu76opinion', 'consensus', 'consent', 'consent10', 'consenta', 'consentaing', 'consentand', 'consentapproaches', 'consentapproval', 'consentcontaining', 'consentdocumentsaresubmitted', 'consented', 'consentedu', 'consentee', 'consenter', 'consenters', 'consentform', 'consentformexample4', 'consentfromthe', 'consenti', 'consentif', 'consentight', 'consentimiento', 'consentin', 'consenting', 'consentismorethan', 'consentmaynot', 'consentmustbeprovided', 'consentprocessshouldultimatelyassurethatthesubject', 'consentrights', 'consents', 'consentsequences', 'consentshould', 'consentss', 'consenttemplatesareavailable', 'consentto', 'consenttotreatment', 'consenttreatment', 'consentunization', 'consentwillremainineffectunlessrevokedbymeinwriting', 'consentworkingparty', 'consenut', 'conseny', 'consequence', 'consequences', 'consequencesoranylossof', 'consequential', 'consequently', 'conservation', 'conservative', 'conservatively', 'conservator', 'conservatornote', 'conservators', 'conservatorship', 'consewontstained', 'consid', 'consider', 'considerable', 'considerably', 'considerat', 'considerate', 'consideration', 'considerations', 'considerationss', 'considerbefore', 'considered', 'consideredor', 'consideren', 'considering', 'considers', 'consist', 'consisted', 'consistency', 'consistencyof', 'consistent', 'consistentacrossallthefocusgroupswastheneedforhelpinunderstandingmedicalissues', 'consistently', 'consistentlybroken', 'consisting', 'consists', 'consolida', 'consolidate', 'consolidated', 'consolidates', 'consolidation', 'consortium', 'conspicuous', 'conspiracy', 'constant', 'constantly', 'constantlyon', 'constipated', 'constipatio', 'constipation', 'constipation0', 'constitute', 'constitutes', 'constituting', 'constitution', 'constitutional', 'constitutionali', 'constrained', 'constraint', 'constraints', 'constriction', 'construct', 'constructed', 'construction', 'constructs', 'construed', 'consular', 'consult', 'consultant', 'consultantandnursesfullauthoritytoadministerandperformalldrugs', 'consultants', 'consultarlas', 'consultartonorts', 'consultat', 'consultating', 'consultation', 'consultations', 'consultative', 'consulted', 'consultee', 'consulting', 'consultingphysicians', 'consultmay', 'consults', 'consume', 'consumed', 'consumer', 'consumers', 'consumi', 'consuming', 'consummated', 'consump', 'consumption', 'conswenbtained', 'cont', 'conta', 'contac', 'contact', 'contactallergy', 'contacted', 'contactedand', 'contactedbytheagreed', 'contactedwith', 'contactfor', 'contactinformation', 'contacting', 'contactotherappropriatehealthcareproviders', 'contacts', 'contactsto', 'contagion', 'contagious', 'contain', 'contained', 'container', 'containers', 'containing', 'containingimageswillbeprovidedatnocharge', 'containment', 'contains', 'contaminants', 'contaminat', 'contaminate', 'contaminated', 'contamination', 'contar', 'conte', 'contemplated', 'contemplating', 'contemplation', 'contemplative', 'contemporaneous', 'contemporaneously', 'contemporary', 'contempt', 'contemst', 'contended', 'contener', 'contenido', 'content', 'contentious', 'contents', 'contest', 'contestability', 'contestable', 'contestaclaim', 'contestant', 'contestar', 'contested', 'contesting', 'context', 'contexts', 'conti', 'contiene', 'contined', 'contingencies', 'contingency', 'contingent', 'continu', 'continua', 'continuación', 'continual', 'continually', 'continuance', 'continuatiion', 'continuation', 'continue', 'continued', 'continued0', 'continuedmedical', 'continues', 'continuetotakeanyprescriptionmedicationsasdirectedbyyourdoctor', 'continuidad', 'continuing', 'continuity', 'continuous', 'continuously', 'continuum', 'contour', 'contouring', 'contours', 'contra', 'contraception', 'contraceptive', 'contraceptives', 'contraceptiveyes', 'contracey', 'contract', 'contracted', 'contracting', 'contraction', 'contractor', 'contractors', 'contractorthatadministers', 'contractprov', 'contracts', 'contractual', 'contractually', 'contracture', 'contradiction', 'contradictions', 'contradictory', 'contradicts', 'contrain', 'contraindicate', 'contraindicated', 'contraindicates', 'contraindicatioabsolute', 'contraindication', 'contraindications', 'contrary', 'contrarytothewishesofthepersonorofanotherperson', 'contrast', 'contrastdyes', 'contraste', 'contravene', 'contreras', 'contribute', 'contributed', 'contributes', 'contributing', 'contribution', 'contributions', 'contributor', 'contributory', 'contro', 'control', 'controlbleeding', 'controllable', 'controlled', 'controller', 'controlling', 'controls', 'controly', 'controo', 'controversial', 'controversies', 'controversy', 'controverted', 'contvaccine', 'convalescent', 'convened', 'convenience', 'convenient', 'convention', 'conventional', 'conventionally', 'conventions', 'convergence', 'conversa', 'conversant', 'conversar', 'conversará', 'conversation', 'conversational', 'conversations', 'converse', 'conversely', 'conversing', 'conversion', 'convert', 'converted', 'converters', 'converting', 'converts', 'convey', 'conveyed', 'conveying', 'conveys', 'convicted', 'conviction', 'convictions', 'convince', 'convinced', 'convincing', 'convulsi', 'convulsions', 'convulsive', 'conyers', 'conz', 'conﬁ', 'conﬁden', 'conﬁdential', 'conﬁdentiality', 'conﬁrm', 'conﬂict', 'conﬂicts', 'coo', 'coodination', 'cook', 'cooker', 'cookies', 'cooking', 'cooks', 'cookware', 'cool', 'cooley', 'cooling', 'coolsculpting', 'coolsculptinor', 'coombs', 'coomu', 'coonttacct', 'cooper', 'coopera', 'cooperate', 'cooperatein', 'cooperation', 'cooperative', 'cooperatively', 'coopertake', 'coopyng', 'coordi', 'coordinate', 'coordinated', 'coordinates', 'coordinating', 'coordination', 'coordinator', 'coordinator30', 'coordinatoror', 'coordinators', 'coossmeetiic', 'cop', 'copage', 'copay', 'copaym', 'copayment', 'copayments', 'copays', 'copd', 'cope', 'copernicus', 'cophone', 'copia', 'copied', 'copieeceived', 'copiers', 'copies', 'copiesof', 'copiesofboth', 'copiesto', 'coping', 'copious', 'coplumbia', 'copp', 'copper', 'coppiedd', 'cops', 'copty', 'copy', 'copying', 'copyingof', 'copyof', 'copyofthecolumbiadoctorsnoticeofprivacypractices', 'copyright', 'copyrighted', 'copyrights', 'cor', 'cord', 'cordandcordblooduseand', 'cordin', 'cordprolapseorcordcompression', 'cords', 'core', 'corec', 'corey', 'corn', 'cornea', 'corneal', 'cornell', 'corner', 'corners', 'cornerstone', 'cornerstonepsychiatric', 'cornwallis', 'corollary', 'coronal', 'coronary', 'coroner', 'coroners', 'corporate', 'corporation', 'corporations', 'corps', 'corpus', 'corr', 'correct', 'correctas', 'corrected', 'correcting', 'correctio', 'correction', 'correctional', 'corrections', 'corrective', 'correctly', 'correctlyobtainingsubjectconsent', 'correctness', 'correctol', 'correcttitleofthe', 'correlate', 'correlates', 'correlation', 'correo', 'correspond', 'corresponde', 'corresponded', 'correspondence', 'corresponding', 'corresponds', 'corrija', 'corroboration', 'corrupt', 'corset', 'cortex', 'corticosteroid', 'corticosteroids', 'cortisol', 'cortisone', 'corvallis', 'corwin', 'cos', 'cosdaitpe', 'cosenza', 'cosimetic', 'cosme', 'cosmetic', 'cosmetically', 'cosmetics', 'cost', 'costa', 'costantini', 'costco', 'costly', 'costovertebral', 'costs', 'cot', 'cotati', 'cotherapy', 'cotinine', 'cotsen', 'cotton', 'cottonwood', 'cou', 'couch', 'cough', 'coughed', 'coughing', 'coughingblood', 'coughlin', 'coughs', 'could', 'coulda', 'coumadin', 'coun', 'counci', 'council', 'councilors', 'councils', 'couns', 'counsel', 'counseled', 'counseliing', 'counselin', 'counseling', 'counselingcovenant', 'counselingproceduresor', 'counselingso', 'counselled', 'counselling', 'counsellor', 'counsellors', 'counselo', 'counselor', 'counselors', 'counselorsare', 'counsent', 'count', 'counted', 'counter', 'counteract', 'counterand', 'counterintelligence', 'countermedications', 'counterpart', 'counterparts', 'counterproductive', 'counters', 'countersign', 'countersigned', 'countertherapeutic', 'countertransference', 'counties', 'counting', 'countries', 'country', 'counts', 'county', 'couper', 'couple', 'coupled', 'couples', 'coupon', 'coupons', 'courage', 'courier', 'couriering', 'cours', 'course', 'courses', 'coursework', 'court', 'courte', 'courtenay', 'courteous', 'courtesy', 'courtney', 'courtroom', 'courtrooms', 'courts', 'courtyard', 'cousin', 'cousins', 'coutts', 'couzin', 'cov', 'cov4', 'cove', 'covenant', 'covenants', 'cover', 'coverage', 'coveragerently', 'coverd', 'covered', 'coveredbymyinsurancecompany', 'coveredentities', 'coveredhealthcareprovidersorhealthcare', 'covering', 'covers', 'covert', 'covetousness', 'covington', 'cow', 'cowart', 'cowley', 'coworker', 'coworkers', 'cox', 'coyes', 'coyesol', 'cp', 'cpa', 'cpap', 'cphone', 'cphysici', 'cpm', 'cpn', 'cpnpaper', 'cpoe', 'cpolicy', 'cpollege', 'cpr', 'cprs', 'cps', 'cpso', 'cpsp', 'cpt', 'cptbc', 'cr', 'cr9', 'cra', 'crabs', 'crack', 'cracked', 'crackers', 'cracking', 'cracks', 'craft', 'crafted', 'crafting', 'craftsman', 'craig', 'craigto', 'crain', 'cramp', 'cramping', 'cramps', 'cranberryc', 'crane', 'cranial', 'cranio', 'craniofacial', 'craniosacral', 'craniotomy', 'cranley', 'cranston', 'crash', 'crave', 'craven', 'craving', 'cravings', 'crawford', 'crawl', 'crawled', 'crawley', 'crawling', 'crchd', 'cre', 'crea', 'cream', 'creams', 'crease', 'create', 'created', 'creates', 'creatine', 'creating', 'creatingop', 'creation', 'creations', 'creative', 'creatively', 'creativity', 'creator', 'creatures', 'creden', 'credential', 'credentialed', 'credentialing', 'credentials', 'credibility', 'credible', 'credit', 'credited', 'creditors', 'credits', 'creed', 'creeditt', 'creek', 'creekside', 'creel', 'cremer', 'creole', 'crepancies', 'crescent', 'cress', 'crest', 'crestor', 'creutzfeldt', 'crew', 'crf', 'crfs', 'crh', 'cri', 'crib', 'cried', 'cries', 'criinal', 'crim', 'crime', 'crimes', 'crimi', 'criminal', 'criminaland', 'criminally', 'criminals', 'crippling', 'cription', 'crises', 'crisis', 'crisiscentrechat', 'crisol', 'criteria', 'criteriaforadvertisements', 'criteriamight', 'criterion', 'critical', 'critically', 'criticism', 'criticisms', 'criticize', 'criticized', 'criticizing', 'critics', 'critique', 'crittenden', 'crixivan', 'crna', 'crnp', 'crnpis', 'cro', 'croatian', 'crock', 'crohn', 'crohns', 'cromwell', 'cros', 'cross', 'crosscountry', 'crossdresser', 'crossed', 'crossing', 'crossings', 'crouch', 'crouching', 'croup', 'crowd', 'crowds', 'crown', 'crowns', 'crownsville', 'croydon', 'crrf', 'crrfs', 'crucial', 'cruciferous', 'cruel', 'cruelty', 'crum', 'crushed', 'crushing', 'crusting', 'crutches', 'crutchfield', 'cry', 'crying', 'cryo', 'cryopreservation', 'crystal', 'crystallised', 'crystals', 'cs', 'cs164', 'csat', 'csd', 'csf', 'csllea', 'csn', 'csr', 'cssm', 'cst', 'ct', 'cta', 'ctard', 'ctargeted', 'cted', 'ctices', 'ction', 'ctivity', 'ctms', 'ctr', 'ctrl', 'cts', 'cturist', 'cu', 'cual', 'cualquier', 'cuando', 'cuantas', 'cuanto', 'cuare', 'cuarrent', 'cuartacound', 'cuastodial', 'cub', 'cuban', 'cubiertos', 'cucchi', 'cucumbers', 'cue', 'cuerpo', 'cues', 'cuff', 'cuidados', 'cuidadosamente', 'cularly', 'cullman', 'culminated', 'culminates', 'culpability', 'cult', 'cultivate', 'cultivating', 'cultivation', 'cultural', 'culturalandbehavioralcharacteristicswithineachof', 'culturally', 'culture', 'cultures', 'culver', 'cum', 'cumberland', 'cumc', 'cumin', 'cumming', 'cummins', 'cumstances', 'cumulative', 'cunningham', 'cunsel', 'cunsultation', 'cuother', 'cuowww', 'cup', 'cupertino', 'cupping', 'cups', 'cupsper', 'cur', 'cura', 'curación', 'curation', 'curative', 'cure', 'cured', 'cures', 'curetoday', 'curettage', 'curette', 'curfews', 'curiosity', 'curious', 'curl', 'curpast', 'curre', 'curren', 'currencies', 'currencondition', 'currency', 'current', 'currentcondition', 'currentdate', 'currentiep', 'currention', 'currentl', 'currently', 'currentlyhave', 'currentlytaking', 'currentmedications', 'currents', 'currentuseofmedicationssuchascoumadin', 'curretage', 'curricu', 'curricular', 'curricularathletics', 'curriculum', 'curring', 'currivan', 'currmntying', 'curs', 'curtail', 'curvature', 'curve', 'curved', 'cused', 'cushing', 'cushings', 'cushions', 'cusick', 'cussed', 'cust', 'custodia', 'custodial', 'custodian', 'custodians', 'custodianship', 'custody', 'custom', 'customary', 'customer', 'customers', 'customizable', 'customizations', 'customize', 'customized', 'customizethe', 'customs', 'cut', 'cuticchia', 'cutive', 'cutoff', 'cuts', 'cutters', 'cutting', 'cv', 'cva', 'cvac', 'cvad', 'cvads', 'cvc', 'cvcp', 'cvd', 'cvs', 'cw', 'cwad', 'cware', 'cwhwichita', 'cwonsent', 'cxr', 'cy', 'cyanide', 'cyanocobalamin', 'cyanosis', 'cyber', 'cycl', 'cycle', 'cycle3', 'cycles', 'cyclic', 'cycling', 'cyclo', 'cyclobenzaprine', 'cyes', 'cyesuo', 'cyfd', 'cyl', 'cylert', 'cymbalta', 'cynthia', 'cyough', 'cypress', 'cyst', 'cystectomy', 'cystic', 'cysticfibrosis', 'cystitis', 'cystoscopy', 'cysts', 'cytogenetic', 'cytologic', 'cytology', 'cytotoxic', 'czaas', 'czech', 'código', 'd1', 'd101', 'd1127', 'd2', 'd3', 'd4', 'd5', 'd58', 'd6', 'd70897', 'da', 'dab', 'dablos', 'dabout', 'dac', 'dad', 'dada', 'daddy', 'daecision', 'daefi', 'daelegated', 'daepending', 'daes', 'dagnelie', 'dahm', 'dail', 'daily', 'dailyactivities', 'dailychores', 'dairy', 'daisabilities', 'daistinct', 'dakota', 'dalarshahnazarian', 'dalen', 'daley', 'dallas', 'dalmane', 'dam', 'damage', 'damageand', 'damageandotherunpredictablemedicalconditions', 'damaged', 'damages', 'damaging', 'dame', 'damp', 'dampness', 'dan', 'dana', 'danbury', 'dance', 'dancy', 'dandruff', 'dandruﬀ', 'danforth', 'danger', 'dangerous', 'dangerously', 'dangers', 'daniel', 'danielle', 'daniels', 'danna', 'danrjskysthudiecould', 'danshen', 'dant', 'danvers', 'danville', 'dap', 'dar', 'dard', 'darder', 'dards', 'dark', 'darkening', 'darker', 'darkness', 'darle', 'darm', 'darnell', 'darryl', 'dartmouth', 'darves', 'daryl', 'dasenbrook', 'dash', 'dashboards', 'daskalos', 'dat', 'data', 'dataareimportantwhenreviewinga', 'databank', 'database', 'databases', 'datacollection', 'datafound', 'datalways', 'datapresentedmay', 'datasets', 'datathatmay', 'dataware', 'datd', 'date', 'datea', 'datebirthame', 'dated', 'datedby', 'dateelationship', 'dateent', 'dateequencyduration', 'datelastperiodbegan', 'dately', 'dateo', 'dateof', 'dateofbirth', 'dateofdiagnosis', 'dateofith', 'dateoflastpap', 'dateofrequest', 'dates', 'datesofvisits', 'datespast', 'dateworked', 'datex', 'dating', 'datunless', 'daug', 'daughte', 'daughter', 'daughters', 'david', 'davie', 'davies', 'daviglus', 'davis', 'dawn', 'dawning', 'dawson', 'day', 'day1today1', 'dayandtime', 'daycare', 'daydream', 'daydreams', 'dayof', 'days', 'daysfor', 'dayson', 'daytime', 'daytrana', 'dazed', 'db', 'dbc', 'dbgap', 'dbh', 'dbs', 'dbsnp', 'dc', 'dc042', 'dc4', 'dcbs', 'dcfs', 'dcg1', 'dch', 'dcs', 'dcuss', 'dd', 'ddiction', 'ddraw', 'ddress', 'de', 'dea', 'deacision', 'deactivating', 'dead', 'deaderick', 'deadline', 'deadlines', 'deadly', 'deaf', 'deafness', 'deal', 'dealing', 'dealings', 'deals', 'dealt', 'dean', 'deane', 'deansbox', 'dear', 'dearth', 'death', 'deathi', 'deaths', 'debarr', 'debarred', 'debarredexcluded', 'debate', 'debbie', 'debe', 'debería', 'debido', 'debilitated', 'debilitating', 'debit', 'deborah', 'debra', 'debridement', 'debriding', 'debriefed', 'debriefing', 'debris', 'debt', 'debtor', 'dec', 'decade', 'decades', 'decaision', 'decay', 'decayed', 'decease', 'deceased', 'decedent', 'decedents', 'deceit', 'deceive', 'deceiving', 'decem', 'december', 'deception', 'deceptive', 'deci', 'decibels', 'decide', 'decided', 'decides', 'decideto', 'deciding', 'decidir', 'decido', 'deciision', 'decimal', 'decis', 'decisaion', 'decisiaon', 'decisioan', 'decision', 'decisiona', 'decisional', 'decisionally', 'decisionmakers', 'decisionmaking', 'decisions', 'decisiuon', 'decisive', 'deck', 'decl', 'declaration', 'declarations', 'declare', 'declared', 'declaring', 'declination', 'decline', 'declined', 'declines', 'declining', 'decoding', 'decom', 'decompression', 'deconditioning', 'decongestants', 'decrea', 'decrease', 'decreased', 'decreasedlibido', 'decreases', 'decreasesinthefetalheartratethatmayindicatethebabyisbeingstressed', 'decreasing', 'decreasingly', 'decreed', 'decreek', 'decrees', 'dectomy', 'decubitis', 'ded', 'dedcriom', 'dedescription', 'dedicated', 'dedication', 'deduc', 'deduce', 'deducible', 'deducted', 'deductible', 'deductibles', 'deduction', 'deductions', 'deeceassed', 'deed', 'deedensssnornaonaldnumberr', 'deelliiveeryy', 'deem', 'deemed', 'deemedadvisable', 'deems', 'deep', 'deepening', 'deepeningofvoice', 'deeper', 'deepest', 'deeply', 'deer', 'def', 'defaced', 'default', 'defecate', 'defecation', 'defect', 'defective', 'defects', 'defen', 'defence', 'defend', 'defendant', 'defendants', 'defended', 'defender', 'defending', 'defense', 'defenseif', 'defenseless', 'defenses', 'defensive', 'defer', 'deference', 'deferred', 'deferring', 'defiant', 'defibrill', 'defibrillateorcardiovert', 'defibrillator', 'defibrillators', 'deficiencies', 'deficiencieswere', 'deficiency', 'deficient', 'deficit', 'deficits', 'define', 'defined', 'definedorexplainedin', 'defines', 'defining', 'definite', 'definitely', 'definition', 'definitions', 'definitive', 'definitively', 'deforest', 'deformity', 'defraud', 'defraudany', 'defrauding', 'defray', 'deft', 'degenerate', 'degenerated', 'degenerating', 'degeneration', 'degenerations', 'degenerative', 'degenhardt', 'degrading', 'degree', 'degrees', 'degrpeatenu', 'dehydrated', 'dehydration', 'dei', 'deicisions', 'deid', 'deisronltiess', 'dekalb', 'del', 'dela37associated', 'delaware', 'delay', 'delayed', 'delaying', 'delays', 'delegable', 'delegate', 'delegated', 'delegates', 'delegatiaon', 'delegating', 'delegation', 'delete', 'deleted', 'deleteis', 'deleterious', 'deleting', 'deletion', 'deliberate', 'deliberately', 'deliberation', 'delievered', 'delighted', 'delights', 'delimits', 'delineate', 'delineated', 'delineates', 'delineating', 'delinquency', 'delinquent', 'delirious', 'delirium', 'deliver', 'delivered', 'deliveries', 'delivering', 'deliveriwritten', 'deliverthe', 'delivery', 'deliveryinstructions', 'deliverymethod', 'deliveryofmybaby', 'deliveryvaginal', 'delta', 'deltoid', 'delusions', 'dem', 'demand', 'demanding', 'demands', 'demarcate', 'demark', 'dementia', 'demerol', 'demers', 'demineralized', 'democracies', 'democracy', 'democratic', 'demographic', 'demographics', 'demolished', 'demonstrable', 'demonstrat', 'demonstrate', 'demonstrated', 'demonstrates', 'demonstrating', 'demonstration', 'demonstrations', 'demos', 'demostrado']\n"
     ]
    }
   ],
   "source": [
    "#need to replace ____ with whitespace\n",
    "data_doc['text']=data_doc['text'].apply(lambda x: x.replace(\"_\",\" \"))\n",
    "data_page['text']=data_page['text'].apply(lambda x: x.replace(\"_\",\" \"))\n",
    "Xd=Xd.apply(lambda x: x.replace(\"_\",\" \"))\n",
    "Xp=Xp.apply(lambda x: x.replace(\"_\",\" \"))\n",
    "Xd_dtm=vect.fit_transform(Xd)\n",
    "Xp_dtm=vect.fit_transform(Xp)\n",
    "print(Xd_dtm.shape)\n",
    "print(Xp_dtm.shape)\n",
    "print(vect.get_feature_names()[5900:12000])"
   ]
  },
  {
   "cell_type": "code",
   "execution_count": 8,
   "metadata": {
    "collapsed": false
   },
   "outputs": [
    {
     "name": "stderr",
     "output_type": "stream",
     "text": [
      "/home/sierra/anaconda3/lib/python3.6/site-packages/sklearn/cross_validation.py:44: DeprecationWarning: This module was deprecated in version 0.18 in favor of the model_selection module into which all the refactored classes and functions are moved. Also note that the interface of the new CV iterators are different from that of this module. This module will be removed in 0.20.\n",
      "  \"This module will be removed in 0.20.\", DeprecationWarning)\n",
      "/home/sierra/anaconda3/lib/python3.6/site-packages/sklearn/grid_search.py:43: DeprecationWarning: This module was deprecated in version 0.18 in favor of the model_selection module into which all the refactored classes and functions are moved. This module will be removed in 0.20.\n",
      "  DeprecationWarning)\n"
     ]
    }
   ],
   "source": [
    "#import all necessary libraries\n",
    "from time import time\n",
    "from sklearn.cross_validation import train_test_split\n",
    "from sklearn.metrics import classification_report as clsr\n",
    "from sklearn.metrics import confusion_matrix\n",
    "from sklearn.pipeline import Pipeline\n",
    "from sklearn.grid_search import GridSearchCV\n",
    "import numpy as np\n",
    "import tensorflow as tf\n",
    "#training sets\n",
    "Xd_train, Xd_test, yd_train, yd_test= train_test_split(Xd, yd, train_size=0.75, random_state=3)\n",
    "Xp_train, Xp_test, yp_train, yp_test= train_test_split(Xp, yp, train_size=0.75, random_state=3)"
   ]
  },
  {
   "cell_type": "markdown",
   "metadata": {},
   "source": [
    "## Document Level Data"
   ]
  },
  {
   "cell_type": "markdown",
   "metadata": {},
   "source": [
    "### using CNN - adapting from this example: https://github.com/tensorflow/tensorflow/blob/master/tensorflow/examples/learn/text_classification_cnn.py"
   ]
  },
  {
   "cell_type": "code",
   "execution_count": 9,
   "metadata": {
    "collapsed": true
   },
   "outputs": [],
   "source": [
    "#  Copyright 2016 The TensorFlow Authors. All Rights Reserved.\n",
    "#\n",
    "#  Licensed under the Apache License, Version 2.0 (the \"License\");\n",
    "#  you may not use this file except in compliance with the License.\n",
    "#  You may obtain a copy of the License at\n",
    "#\n",
    "#   http://www.apache.org/licenses/LICENSE-2.0\n",
    "#\n",
    "#  Unless required by applicable law or agreed to in writing, software\n",
    "#  distributed under the License is distributed on an \"AS IS\" BASIS,\n",
    "#  WITHOUT WARRANTIES OR CONDITIONS OF ANY KIND, either express or implied.\n",
    "#  See the License for the specific language governing permissions and\n",
    "#  limitations under the License.\n",
    "\n",
    "from __future__ import absolute_import\n",
    "from __future__ import division\n",
    "from __future__ import print_function\n",
    "\n",
    "import argparse\n",
    "import sys\n",
    "\n",
    "from sklearn import metrics\n",
    "\n",
    "learn = tf.contrib.learn\n",
    "\n",
    "def cnn_model(features, target):\n",
    "    \"\"\"2 layer ConvNet to predict from sequence of words to a class.\"\"\"\n",
    "    # Convert indexes of words into embeddings.\n",
    "    # This creates embeddings matrix of [n_words, EMBEDDING_SIZE] and then\n",
    "    # maps word indexes of the sequence into [batch_size, sequence_length,\n",
    "    # EMBEDDING_SIZE].\n",
    "    target = tf.one_hot(target, 4, 1, 0)\n",
    "    word_vectors = tf.contrib.layers.embed_sequence(\n",
    "      features, vocab_size=n_words, embed_dim=EMBEDDING_SIZE, scope='words')\n",
    "    word_vectors = tf.expand_dims(word_vectors, 3)\n",
    "    with tf.variable_scope('CNN_Layer1'):\n",
    "        conv1 = tf.contrib.layers.convolution2d(\n",
    "            word_vectors, N_FILTERS, FILTER_SHAPE1, padding='VALID')\n",
    "        # Add a RELU for non linearity.\n",
    "        conv1 = tf.nn.relu(conv1)\n",
    "        # Max pooling across output of Convolution+Relu.\n",
    "        pool1 = tf.nn.max_pool(\n",
    "            conv1,\n",
    "            ksize=[1, POOLING_WINDOW, 1, 1],\n",
    "            strides=[1, POOLING_STRIDE, 1, 1],\n",
    "            padding='SAME')\n",
    "        # Transpose matrix so that n_filters from convolution becomes width.\n",
    "        pool1 = tf.transpose(pool1, [0, 1, 3, 2])\n",
    "    with tf.variable_scope('CNN_Layer2'):\n",
    "    # Second level of convolution filtering.\n",
    "        conv2 = tf.contrib.layers.convolution2d(\n",
    "        pool1, N_FILTERS, FILTER_SHAPE2, padding='VALID')\n",
    "        # Max across each filter to get useful features for classification.\n",
    "        pool2 = tf.squeeze(tf.reduce_max(conv2, 1), squeeze_dims=[1])\n",
    "\n",
    "    # Apply regular WX + B and classification.\n",
    "    logits = tf.contrib.layers.fully_connected(pool2, 4, activation_fn=None)\n",
    "    loss = tf.contrib.losses.softmax_cross_entropy(logits, target)\n",
    "\n",
    "    train_op = tf.contrib.layers.optimize_loss(\n",
    "    loss,\n",
    "    tf.contrib.framework.get_global_step(),\n",
    "    optimizer='Adam',\n",
    "    learning_rate=0.01)\n",
    "\n",
    "    return ({\n",
    "    'class': tf.argmax(logits, 1),\n",
    "    'prob': tf.nn.softmax(logits)\n",
    "    }, loss, train_op)"
   ]
  },
  {
   "cell_type": "code",
   "execution_count": 9,
   "metadata": {
    "collapsed": false
   },
   "outputs": [
    {
     "name": "stdout",
     "output_type": "stream",
     "text": [
      "Total words: 41660\n",
      "WARNING:tensorflow:Using temporary folder as model directory: /tmp/tmpuwalbjna\n",
      "INFO:tensorflow:Using default config.\n",
      "INFO:tensorflow:Using config: {'_task_type': None, '_task_id': 0, '_cluster_spec': <tensorflow.python.training.server_lib.ClusterSpec object at 0x7f5b26c6d828>, '_master': '', '_num_ps_replicas': 0, '_environment': 'local', '_is_chief': True, '_evaluation_master': '', '_tf_config': gpu_options {\n",
      "  per_process_gpu_memory_fraction: 1.0\n",
      "}\n",
      ", '_tf_random_seed': None, '_save_summary_steps': 100, '_save_checkpoints_secs': 600, '_save_checkpoints_steps': None, '_keep_checkpoint_max': 5, '_keep_checkpoint_every_n_hours': 10000}\n",
      "WARNING:tensorflow:From <ipython-input-9-7a1eb2ccba6d>:102: calling BaseEstimator.fit (from tensorflow.contrib.learn.python.learn.estimators.estimator) with x is deprecated and will be removed after 2016-12-01.\n",
      "Instructions for updating:\n",
      "Estimator is decoupled from Scikit Learn interface by moving into\n",
      "separate class SKCompat. Arguments x, y and batch_size are only\n",
      "available in the SKCompat class, Estimator will only accept input_fn.\n",
      "Example conversion:\n",
      "  est = Estimator(...) -> est = SKCompat(Estimator(...))\n",
      "WARNING:tensorflow:From <ipython-input-9-7a1eb2ccba6d>:102: calling BaseEstimator.fit (from tensorflow.contrib.learn.python.learn.estimators.estimator) with y is deprecated and will be removed after 2016-12-01.\n",
      "Instructions for updating:\n",
      "Estimator is decoupled from Scikit Learn interface by moving into\n",
      "separate class SKCompat. Arguments x, y and batch_size are only\n",
      "available in the SKCompat class, Estimator will only accept input_fn.\n",
      "Example conversion:\n",
      "  est = Estimator(...) -> est = SKCompat(Estimator(...))\n"
     ]
    },
    {
     "name": "stderr",
     "output_type": "stream",
     "text": [
      "/home/sierra/anaconda3/lib/python3.6/site-packages/tensorflow/python/util/deprecation.py:247: FutureWarning: comparison to `None` will result in an elementwise object comparison in the future.\n",
      "  equality = a == b\n"
     ]
    },
    {
     "name": "stdout",
     "output_type": "stream",
     "text": [
      "WARNING:tensorflow:From <ipython-input-9-7a1eb2ccba6d>:70: softmax_cross_entropy (from tensorflow.contrib.losses.python.losses.loss_ops) is deprecated and will be removed after 2016-12-30.\n",
      "Instructions for updating:\n",
      "Use tf.losses.softmax_cross_entropy instead.\n",
      "WARNING:tensorflow:From /home/sierra/anaconda3/lib/python3.6/site-packages/tensorflow/contrib/losses/python/losses/loss_ops.py:394: compute_weighted_loss (from tensorflow.contrib.losses.python.losses.loss_ops) is deprecated and will be removed after 2016-12-30.\n",
      "Instructions for updating:\n",
      "Use tf.losses.compute_weighted_loss instead.\n",
      "WARNING:tensorflow:From /home/sierra/anaconda3/lib/python3.6/site-packages/tensorflow/contrib/losses/python/losses/loss_ops.py:151: add_loss (from tensorflow.contrib.losses.python.losses.loss_ops) is deprecated and will be removed after 2016-12-30.\n",
      "Instructions for updating:\n",
      "Use tf.losses.add_loss instead.\n",
      "INFO:tensorflow:Create CheckpointSaverHook.\n",
      "INFO:tensorflow:Saving checkpoints for 1 into /tmp/tmpuwalbjna/model.ckpt.\n",
      "INFO:tensorflow:loss = 1.38587, step = 1\n",
      "INFO:tensorflow:Saving checkpoints for 7 into /tmp/tmpuwalbjna/model.ckpt.\n",
      "INFO:tensorflow:Saving checkpoints for 13 into /tmp/tmpuwalbjna/model.ckpt.\n",
      "INFO:tensorflow:Saving checkpoints for 19 into /tmp/tmpuwalbjna/model.ckpt.\n",
      "INFO:tensorflow:Saving checkpoints for 25 into /tmp/tmpuwalbjna/model.ckpt.\n",
      "INFO:tensorflow:Saving checkpoints for 30 into /tmp/tmpuwalbjna/model.ckpt.\n",
      "INFO:tensorflow:Saving checkpoints for 36 into /tmp/tmpuwalbjna/model.ckpt.\n",
      "INFO:tensorflow:Saving checkpoints for 42 into /tmp/tmpuwalbjna/model.ckpt.\n",
      "INFO:tensorflow:Saving checkpoints for 48 into /tmp/tmpuwalbjna/model.ckpt.\n",
      "INFO:tensorflow:Saving checkpoints for 54 into /tmp/tmpuwalbjna/model.ckpt.\n",
      "INFO:tensorflow:Saving checkpoints for 60 into /tmp/tmpuwalbjna/model.ckpt.\n",
      "INFO:tensorflow:Saving checkpoints for 66 into /tmp/tmpuwalbjna/model.ckpt.\n",
      "INFO:tensorflow:Saving checkpoints for 72 into /tmp/tmpuwalbjna/model.ckpt.\n",
      "INFO:tensorflow:Saving checkpoints for 78 into /tmp/tmpuwalbjna/model.ckpt.\n",
      "INFO:tensorflow:Saving checkpoints for 84 into /tmp/tmpuwalbjna/model.ckpt.\n",
      "INFO:tensorflow:Saving checkpoints for 91 into /tmp/tmpuwalbjna/model.ckpt.\n",
      "INFO:tensorflow:Saving checkpoints for 92 into /tmp/tmpuwalbjna/model.ckpt.\n",
      "INFO:tensorflow:Saving checkpoints for 96 into /tmp/tmpuwalbjna/model.ckpt.\n",
      "INFO:tensorflow:Saving checkpoints for 100 into /tmp/tmpuwalbjna/model.ckpt.\n",
      "INFO:tensorflow:Loss for final step: 0.0240465.\n",
      "WARNING:tensorflow:From <ipython-input-9-7a1eb2ccba6d>:105: calling BaseEstimator.predict (from tensorflow.contrib.learn.python.learn.estimators.estimator) with x is deprecated and will be removed after 2016-12-01.\n",
      "Instructions for updating:\n",
      "Estimator is decoupled from Scikit Learn interface by moving into\n",
      "separate class SKCompat. Arguments x, y and batch_size are only\n",
      "available in the SKCompat class, Estimator will only accept input_fn.\n",
      "Example conversion:\n",
      "  est = Estimator(...) -> est = SKCompat(Estimator(...))\n",
      "WARNING:tensorflow:From <ipython-input-9-7a1eb2ccba6d>:70: softmax_cross_entropy (from tensorflow.contrib.losses.python.losses.loss_ops) is deprecated and will be removed after 2016-12-30.\n",
      "Instructions for updating:\n",
      "Use tf.losses.softmax_cross_entropy instead.\n",
      "WARNING:tensorflow:From /home/sierra/anaconda3/lib/python3.6/site-packages/tensorflow/contrib/losses/python/losses/loss_ops.py:394: compute_weighted_loss (from tensorflow.contrib.losses.python.losses.loss_ops) is deprecated and will be removed after 2016-12-30.\n",
      "Instructions for updating:\n",
      "Use tf.losses.compute_weighted_loss instead.\n",
      "WARNING:tensorflow:From /home/sierra/anaconda3/lib/python3.6/site-packages/tensorflow/contrib/losses/python/losses/loss_ops.py:151: add_loss (from tensorflow.contrib.losses.python.losses.loss_ops) is deprecated and will be removed after 2016-12-30.\n",
      "Instructions for updating:\n",
      "Use tf.losses.add_loss instead.\n",
      "Accuracy: 0.756303\n",
      "             precision    recall  f1-score   support\n",
      "\n",
      "          0       0.90      0.80      0.85        70\n",
      "          1       0.89      0.76      0.82        76\n",
      "          2       0.88      0.77      0.82        73\n",
      "          3       0.21      0.53      0.30        19\n",
      "\n",
      "avg / total       0.84      0.76      0.79       238\n",
      "\n",
      "[[56  1  2 11]\n",
      " [ 3 58  3 12]\n",
      " [ 0  3 56 14]\n",
      " [ 3  3  3 10]]\n"
     ]
    },
    {
     "ename": "SystemExit",
     "evalue": "",
     "output_type": "error",
     "traceback": [
      "An exception has occurred, use %tb to see the full traceback.\n",
      "\u001b[0;31mSystemExit\u001b[0m\n"
     ]
    },
    {
     "name": "stderr",
     "output_type": "stream",
     "text": [
      "/home/sierra/anaconda3/lib/python3.6/site-packages/IPython/core/interactiveshell.py:2889: UserWarning: To exit: use 'exit', 'quit', or Ctrl-D.\n",
      "  warn(\"To exit: use 'exit', 'quit', or Ctrl-D.\", stacklevel=1)\n"
     ]
    }
   ],
   "source": [
    "FLAGS = None\n",
    "\n",
    "MAX_DOCUMENT_LENGTH = 5000\n",
    "EMBEDDING_SIZE = 50\n",
    "N_FILTERS = 10\n",
    "WINDOW_SIZE = 20\n",
    "FILTER_SHAPE1 = [WINDOW_SIZE, EMBEDDING_SIZE]\n",
    "FILTER_SHAPE2 = [WINDOW_SIZE, N_FILTERS]\n",
    "POOLING_WINDOW = 4\n",
    "POOLING_STRIDE = 2\n",
    "n_words = 0\n",
    "\n",
    "\n",
    "def main(unused_argv):\n",
    "    global n_words\n",
    "    # Prepare training and testing data\n",
    "    x_train = Xd_train\n",
    "    y_train = yd_train.astype('int')\n",
    "    x_test = Xd_test\n",
    "    y_test = yd_test.astype('int')\n",
    "\n",
    "    # Process vocabulary\n",
    "    vocab_processor = learn.preprocessing.VocabularyProcessor(MAX_DOCUMENT_LENGTH)\n",
    "    x_train = np.array(list(vocab_processor.fit_transform(x_train)))\n",
    "    x_test = np.array(list(vocab_processor.transform(x_test)))\n",
    "    n_words = len(vocab_processor.vocabulary_)\n",
    "    print('Total words: %d' % n_words)\n",
    "\n",
    "    # Build model\n",
    "    classifier = learn.Estimator(model_fn=cnn_model)\n",
    "\n",
    "    # Train and predict\n",
    "    classifier.fit(x_train, y_train, steps=100)\n",
    "    y_predicted = [\n",
    "      p['class'] for p in classifier.predict(\n",
    "          x_test, as_iterable=True)\n",
    "    ]\n",
    "    score = metrics.accuracy_score(y_test, y_predicted)\n",
    "    print('Accuracy: {0:f}'.format(score))\n",
    "    print(clsr(y_test, y_predicted))\n",
    "    print(confusion_matrix(y_test,y_predicted))\n",
    "\n",
    "if __name__ == '__main__':\n",
    "    parser = argparse.ArgumentParser()\n",
    "    parser.add_argument(\n",
    "      '--test_with_fake_data',\n",
    "      default=False,\n",
    "      help='Test the example code with fake data.',\n",
    "      action='store_true')\n",
    "    FLAGS, unparsed = parser.parse_known_args()\n",
    "    tf.app.run(main=main, argv=[sys.argv[0]] + unparsed)"
   ]
  },
  {
   "cell_type": "markdown",
   "metadata": {},
   "source": [
    "## Page Level Data"
   ]
  },
  {
   "cell_type": "code",
   "execution_count": 10,
   "metadata": {
    "collapsed": false
   },
   "outputs": [
    {
     "name": "stdout",
     "output_type": "stream",
     "text": [
      "Total words: 44293\n",
      "WARNING:tensorflow:Using temporary folder as model directory: /tmp/tmpt4f38vab\n",
      "INFO:tensorflow:Using default config.\n",
      "INFO:tensorflow:Using config: {'_task_type': None, '_task_id': 0, '_cluster_spec': <tensorflow.python.training.server_lib.ClusterSpec object at 0x7f18d8112f28>, '_master': '', '_num_ps_replicas': 0, '_environment': 'local', '_is_chief': True, '_evaluation_master': '', '_tf_config': gpu_options {\n",
      "  per_process_gpu_memory_fraction: 1.0\n",
      "}\n",
      ", '_tf_random_seed': None, '_save_summary_steps': 100, '_save_checkpoints_secs': 600, '_save_checkpoints_steps': None, '_keep_checkpoint_max': 5, '_keep_checkpoint_every_n_hours': 10000}\n",
      "WARNING:tensorflow:From <ipython-input-10-80b19b73e14d>:32: calling BaseEstimator.fit (from tensorflow.contrib.learn.python.learn.estimators.estimator) with x is deprecated and will be removed after 2016-12-01.\n",
      "Instructions for updating:\n",
      "Estimator is decoupled from Scikit Learn interface by moving into\n",
      "separate class SKCompat. Arguments x, y and batch_size are only\n",
      "available in the SKCompat class, Estimator will only accept input_fn.\n",
      "Example conversion:\n",
      "  est = Estimator(...) -> est = SKCompat(Estimator(...))\n",
      "WARNING:tensorflow:From <ipython-input-10-80b19b73e14d>:32: calling BaseEstimator.fit (from tensorflow.contrib.learn.python.learn.estimators.estimator) with y is deprecated and will be removed after 2016-12-01.\n",
      "Instructions for updating:\n",
      "Estimator is decoupled from Scikit Learn interface by moving into\n",
      "separate class SKCompat. Arguments x, y and batch_size are only\n",
      "available in the SKCompat class, Estimator will only accept input_fn.\n",
      "Example conversion:\n",
      "  est = Estimator(...) -> est = SKCompat(Estimator(...))\n"
     ]
    },
    {
     "name": "stderr",
     "output_type": "stream",
     "text": [
      "/home/sierra/anaconda3/lib/python3.6/site-packages/tensorflow/python/util/deprecation.py:247: FutureWarning: comparison to `None` will result in an elementwise object comparison in the future.\n",
      "  equality = a == b\n"
     ]
    },
    {
     "name": "stdout",
     "output_type": "stream",
     "text": [
      "WARNING:tensorflow:From <ipython-input-9-cdfc31a6379e>:58: softmax_cross_entropy (from tensorflow.contrib.losses.python.losses.loss_ops) is deprecated and will be removed after 2016-12-30.\n",
      "Instructions for updating:\n",
      "Use tf.losses.softmax_cross_entropy instead.\n",
      "WARNING:tensorflow:From /home/sierra/anaconda3/lib/python3.6/site-packages/tensorflow/contrib/losses/python/losses/loss_ops.py:394: compute_weighted_loss (from tensorflow.contrib.losses.python.losses.loss_ops) is deprecated and will be removed after 2016-12-30.\n",
      "Instructions for updating:\n",
      "Use tf.losses.compute_weighted_loss instead.\n",
      "WARNING:tensorflow:From /home/sierra/anaconda3/lib/python3.6/site-packages/tensorflow/contrib/losses/python/losses/loss_ops.py:151: add_loss (from tensorflow.contrib.losses.python.losses.loss_ops) is deprecated and will be removed after 2016-12-30.\n",
      "Instructions for updating:\n",
      "Use tf.losses.add_loss instead.\n",
      "INFO:tensorflow:Create CheckpointSaverHook.\n",
      "INFO:tensorflow:Saving checkpoints for 1 into /tmp/tmpt4f38vab/model.ckpt.\n",
      "INFO:tensorflow:loss = 1.38703, step = 1\n",
      "INFO:tensorflow:Saving checkpoints for 10 into /tmp/tmpt4f38vab/model.ckpt.\n",
      "INFO:tensorflow:Saving checkpoints for 19 into /tmp/tmpt4f38vab/model.ckpt.\n",
      "INFO:tensorflow:Saving checkpoints for 28 into /tmp/tmpt4f38vab/model.ckpt.\n",
      "INFO:tensorflow:Saving checkpoints for 37 into /tmp/tmpt4f38vab/model.ckpt.\n",
      "INFO:tensorflow:Saving checkpoints for 46 into /tmp/tmpt4f38vab/model.ckpt.\n",
      "INFO:tensorflow:Saving checkpoints for 55 into /tmp/tmpt4f38vab/model.ckpt.\n",
      "INFO:tensorflow:Saving checkpoints for 63 into /tmp/tmpt4f38vab/model.ckpt.\n",
      "INFO:tensorflow:Saving checkpoints for 71 into /tmp/tmpt4f38vab/model.ckpt.\n",
      "INFO:tensorflow:Saving checkpoints for 79 into /tmp/tmpt4f38vab/model.ckpt.\n",
      "INFO:tensorflow:Saving checkpoints for 87 into /tmp/tmpt4f38vab/model.ckpt.\n",
      "INFO:tensorflow:Saving checkpoints for 95 into /tmp/tmpt4f38vab/model.ckpt.\n",
      "INFO:tensorflow:Saving checkpoints for 100 into /tmp/tmpt4f38vab/model.ckpt.\n",
      "INFO:tensorflow:Loss for final step: 0.0852408.\n",
      "WARNING:tensorflow:From <ipython-input-10-80b19b73e14d>:35: calling BaseEstimator.predict (from tensorflow.contrib.learn.python.learn.estimators.estimator) with x is deprecated and will be removed after 2016-12-01.\n",
      "Instructions for updating:\n",
      "Estimator is decoupled from Scikit Learn interface by moving into\n",
      "separate class SKCompat. Arguments x, y and batch_size are only\n",
      "available in the SKCompat class, Estimator will only accept input_fn.\n",
      "Example conversion:\n",
      "  est = Estimator(...) -> est = SKCompat(Estimator(...))\n",
      "WARNING:tensorflow:From <ipython-input-9-cdfc31a6379e>:58: softmax_cross_entropy (from tensorflow.contrib.losses.python.losses.loss_ops) is deprecated and will be removed after 2016-12-30.\n",
      "Instructions for updating:\n",
      "Use tf.losses.softmax_cross_entropy instead.\n",
      "WARNING:tensorflow:From /home/sierra/anaconda3/lib/python3.6/site-packages/tensorflow/contrib/losses/python/losses/loss_ops.py:394: compute_weighted_loss (from tensorflow.contrib.losses.python.losses.loss_ops) is deprecated and will be removed after 2016-12-30.\n",
      "Instructions for updating:\n",
      "Use tf.losses.compute_weighted_loss instead.\n",
      "WARNING:tensorflow:From /home/sierra/anaconda3/lib/python3.6/site-packages/tensorflow/contrib/losses/python/losses/loss_ops.py:151: add_loss (from tensorflow.contrib.losses.python.losses.loss_ops) is deprecated and will be removed after 2016-12-30.\n",
      "Instructions for updating:\n",
      "Use tf.losses.add_loss instead.\n",
      "Accuracy: 0.753304\n",
      "             precision    recall  f1-score   support\n",
      "\n",
      "          0       0.43      0.73      0.54       154\n",
      "          1       0.86      0.84      0.85       371\n",
      "          2       0.92      0.76      0.83       340\n",
      "          3       0.43      0.07      0.12        43\n",
      "\n",
      "avg / total       0.79      0.75      0.76       908\n",
      "\n",
      "[[113  30  10   1]\n",
      " [ 53 311   4   3]\n",
      " [ 73  10 257   0]\n",
      " [ 22   9   9   3]]\n"
     ]
    },
    {
     "ename": "SystemExit",
     "evalue": "",
     "output_type": "error",
     "traceback": [
      "An exception has occurred, use %tb to see the full traceback.\n",
      "\u001b[0;31mSystemExit\u001b[0m\n"
     ]
    },
    {
     "name": "stderr",
     "output_type": "stream",
     "text": [
      "/home/sierra/anaconda3/lib/python3.6/site-packages/IPython/core/interactiveshell.py:2889: UserWarning: To exit: use 'exit', 'quit', or Ctrl-D.\n",
      "  warn(\"To exit: use 'exit', 'quit', or Ctrl-D.\", stacklevel=1)\n"
     ]
    }
   ],
   "source": [
    "FLAGS = None\n",
    "\n",
    "MAX_DOCUMENT_LENGTH = 1000 #made slightly less\n",
    "EMBEDDING_SIZE = 50\n",
    "N_FILTERS = 10\n",
    "WINDOW_SIZE = 20\n",
    "FILTER_SHAPE1 = [WINDOW_SIZE, EMBEDDING_SIZE]\n",
    "FILTER_SHAPE2 = [WINDOW_SIZE, N_FILTERS]\n",
    "POOLING_WINDOW = 4\n",
    "POOLING_STRIDE = 2\n",
    "n_words = 0\n",
    "\n",
    "def main(unused_argv):\n",
    "    global n_words\n",
    "    # Prepare training and testing data\n",
    "    x_train = Xp_train\n",
    "    y_train = yp_train.astype('int')\n",
    "    x_test = Xp_test\n",
    "    y_test = yp_test.astype('int')\n",
    "\n",
    "    # Process vocabulary\n",
    "    vocab_processor = learn.preprocessing.VocabularyProcessor(MAX_DOCUMENT_LENGTH)\n",
    "    x_train = np.array(list(vocab_processor.fit_transform(x_train)))\n",
    "    x_test = np.array(list(vocab_processor.transform(x_test)))\n",
    "    n_words = len(vocab_processor.vocabulary_)\n",
    "    print('Total words: %d' % n_words)\n",
    "\n",
    "    # Build model\n",
    "    classifier = learn.Estimator(model_fn=cnn_model)\n",
    "\n",
    "    # Train and predict\n",
    "    classifier.fit(x_train, y_train, steps=100)\n",
    "    y_predicted = [\n",
    "      p['class'] for p in classifier.predict(\n",
    "          x_test, as_iterable=True)\n",
    "    ]\n",
    "    score = metrics.accuracy_score(y_test, y_predicted)\n",
    "    print('Accuracy: {0:f}'.format(score))\n",
    "    print(clsr(y_test, y_predicted))\n",
    "    print(confusion_matrix(y_test,y_predicted))\n",
    "\n",
    "if __name__ == '__main__':\n",
    "    parser = argparse.ArgumentParser()\n",
    "    parser.add_argument(\n",
    "      '--test_with_fake_data',\n",
    "      default=False,\n",
    "      help='Test the example code with fake data.',\n",
    "      action='store_true')\n",
    "    FLAGS, unparsed = parser.parse_known_args()\n",
    "    tf.app.run(main=main, argv=[sys.argv[0]] + unparsed)"
   ]
  },
  {
   "cell_type": "code",
   "execution_count": null,
   "metadata": {
    "collapsed": true
   },
   "outputs": [],
   "source": []
  }
 ],
 "metadata": {
  "kernelspec": {
   "display_name": "Python 3",
   "language": "python",
   "name": "python3"
  },
  "language_info": {
   "codemirror_mode": {
    "name": "ipython",
    "version": 3
   },
   "file_extension": ".py",
   "mimetype": "text/x-python",
   "name": "python",
   "nbconvert_exporter": "python",
   "pygments_lexer": "ipython3",
   "version": "3.6.0"
  }
 },
 "nbformat": 4,
 "nbformat_minor": 1
}
